{
 "cells": [
  {
   "cell_type": "code",
   "execution_count": 1,
   "id": "c075c6bb-7f34-47a0-b577-f58dd6308e1e",
   "metadata": {},
   "outputs": [],
   "source": [
    "import pandas as pd"
   ]
  },
  {
   "cell_type": "code",
   "execution_count": 240,
   "id": "320d90ed-7cc5-4301-9615-82b81a52d4e3",
   "metadata": {},
   "outputs": [],
   "source": [
    "# Create a dictionary with names, cities, and states\n",
    "dict1 = {'Name': ['Priyang Bhatt', 'Rashmin Panchal', 'Anil Rana', 'Rahul Patel'],\n",
    "          'City': [' New York ', ' Los Angeles ', ' Chicago', ' Houston'],\n",
    "          'State': ['NY', 'CA', 'IL', 'TX']}\n",
    "\n",
    "# Convert the dictionary into a pandas DataFrame for easier data manipulation and analysis\n",
    "data = pd.DataFrame(dict1)"
   ]
  },
  {
   "cell_type": "code",
   "execution_count": 5,
   "id": "a5ffb790-cd68-468c-bca6-da0d2915feb9",
   "metadata": {},
   "outputs": [
    {
     "data": {
      "text/html": [
       "<div>\n",
       "<style scoped>\n",
       "    .dataframe tbody tr th:only-of-type {\n",
       "        vertical-align: middle;\n",
       "    }\n",
       "\n",
       "    .dataframe tbody tr th {\n",
       "        vertical-align: top;\n",
       "    }\n",
       "\n",
       "    .dataframe thead th {\n",
       "        text-align: right;\n",
       "    }\n",
       "</style>\n",
       "<table border=\"1\" class=\"dataframe\">\n",
       "  <thead>\n",
       "    <tr style=\"text-align: right;\">\n",
       "      <th></th>\n",
       "      <th>Name</th>\n",
       "      <th>City</th>\n",
       "      <th>State</th>\n",
       "    </tr>\n",
       "  </thead>\n",
       "  <tbody>\n",
       "    <tr>\n",
       "      <th>0</th>\n",
       "      <td>Priyang Bhatt</td>\n",
       "      <td>New York</td>\n",
       "      <td>NY</td>\n",
       "    </tr>\n",
       "    <tr>\n",
       "      <th>1</th>\n",
       "      <td>Rashmin Panchal</td>\n",
       "      <td>Los Angeles</td>\n",
       "      <td>CA</td>\n",
       "    </tr>\n",
       "    <tr>\n",
       "      <th>2</th>\n",
       "      <td>Anil Rana</td>\n",
       "      <td>Chicago</td>\n",
       "      <td>IL</td>\n",
       "    </tr>\n",
       "    <tr>\n",
       "      <th>3</th>\n",
       "      <td>Rahul Patel</td>\n",
       "      <td>Houston</td>\n",
       "      <td>TX</td>\n",
       "    </tr>\n",
       "  </tbody>\n",
       "</table>\n",
       "</div>"
      ],
      "text/plain": [
       "              Name           City State\n",
       "0    Priyang Bhatt      New York     NY\n",
       "1  Rashmin Panchal   Los Angeles     CA\n",
       "2        Anil Rana        Chicago    IL\n",
       "3      Rahul Patel        Houston    TX"
      ]
     },
     "execution_count": 5,
     "metadata": {},
     "output_type": "execute_result"
    }
   ],
   "source": [
    "data"
   ]
  },
  {
   "cell_type": "markdown",
   "id": "a34cbfd9-c4a6-4949-a0b8-6e4fd9664833",
   "metadata": {},
   "source": [
    "## 1. str.lower() and str.upper()"
   ]
  },
  {
   "cell_type": "code",
   "execution_count": 242,
   "id": "9701855d-1d1c-41d9-b0bd-c68ed08dcbdc",
   "metadata": {},
   "outputs": [],
   "source": [
    "# Convert the 'Name' column to lowercase and store it in a new column 'name_lower'\n",
    "data['name_lower'] = data['Name'].str.lower()"
   ]
  },
  {
   "cell_type": "code",
   "execution_count": 12,
   "id": "e1a7d901-08b3-4817-a25f-e04ca020a82b",
   "metadata": {},
   "outputs": [
    {
     "data": {
      "text/html": [
       "<div>\n",
       "<style scoped>\n",
       "    .dataframe tbody tr th:only-of-type {\n",
       "        vertical-align: middle;\n",
       "    }\n",
       "\n",
       "    .dataframe tbody tr th {\n",
       "        vertical-align: top;\n",
       "    }\n",
       "\n",
       "    .dataframe thead th {\n",
       "        text-align: right;\n",
       "    }\n",
       "</style>\n",
       "<table border=\"1\" class=\"dataframe\">\n",
       "  <thead>\n",
       "    <tr style=\"text-align: right;\">\n",
       "      <th></th>\n",
       "      <th>Name</th>\n",
       "      <th>City</th>\n",
       "      <th>State</th>\n",
       "      <th>name_lower</th>\n",
       "    </tr>\n",
       "  </thead>\n",
       "  <tbody>\n",
       "    <tr>\n",
       "      <th>0</th>\n",
       "      <td>Priyang Bhatt</td>\n",
       "      <td>New York</td>\n",
       "      <td>NY</td>\n",
       "      <td>priyang bhatt</td>\n",
       "    </tr>\n",
       "    <tr>\n",
       "      <th>1</th>\n",
       "      <td>Rashmin Panchal</td>\n",
       "      <td>Los Angeles</td>\n",
       "      <td>CA</td>\n",
       "      <td>rashmin panchal</td>\n",
       "    </tr>\n",
       "    <tr>\n",
       "      <th>2</th>\n",
       "      <td>Anil Rana</td>\n",
       "      <td>Chicago</td>\n",
       "      <td>IL</td>\n",
       "      <td>anil rana</td>\n",
       "    </tr>\n",
       "    <tr>\n",
       "      <th>3</th>\n",
       "      <td>Rahul Patel</td>\n",
       "      <td>Houston</td>\n",
       "      <td>TX</td>\n",
       "      <td>rahul patel</td>\n",
       "    </tr>\n",
       "  </tbody>\n",
       "</table>\n",
       "</div>"
      ],
      "text/plain": [
       "              Name           City State       name_lower\n",
       "0    Priyang Bhatt      New York     NY    priyang bhatt\n",
       "1  Rashmin Panchal   Los Angeles     CA  rashmin panchal\n",
       "2        Anil Rana        Chicago    IL        anil rana\n",
       "3      Rahul Patel        Houston    TX      rahul patel"
      ]
     },
     "execution_count": 12,
     "metadata": {},
     "output_type": "execute_result"
    }
   ],
   "source": [
    "data"
   ]
  },
  {
   "cell_type": "code",
   "execution_count": 244,
   "id": "7a626482-30f3-41f8-99be-57855fd43035",
   "metadata": {},
   "outputs": [],
   "source": [
    "# Convert the 'Name' column to uppercase and store the result in a new column 'name_upper'\n",
    "data['name_upper'] = data['Name'].str.upper()"
   ]
  },
  {
   "cell_type": "code",
   "execution_count": 16,
   "id": "f7db2fd9-f78d-449f-999e-117b0a653626",
   "metadata": {},
   "outputs": [
    {
     "data": {
      "text/html": [
       "<div>\n",
       "<style scoped>\n",
       "    .dataframe tbody tr th:only-of-type {\n",
       "        vertical-align: middle;\n",
       "    }\n",
       "\n",
       "    .dataframe tbody tr th {\n",
       "        vertical-align: top;\n",
       "    }\n",
       "\n",
       "    .dataframe thead th {\n",
       "        text-align: right;\n",
       "    }\n",
       "</style>\n",
       "<table border=\"1\" class=\"dataframe\">\n",
       "  <thead>\n",
       "    <tr style=\"text-align: right;\">\n",
       "      <th></th>\n",
       "      <th>Name</th>\n",
       "      <th>City</th>\n",
       "      <th>State</th>\n",
       "      <th>name_lower</th>\n",
       "      <th>name_upper</th>\n",
       "    </tr>\n",
       "  </thead>\n",
       "  <tbody>\n",
       "    <tr>\n",
       "      <th>0</th>\n",
       "      <td>Priyang Bhatt</td>\n",
       "      <td>New York</td>\n",
       "      <td>NY</td>\n",
       "      <td>priyang bhatt</td>\n",
       "      <td>PRIYANG BHATT</td>\n",
       "    </tr>\n",
       "    <tr>\n",
       "      <th>1</th>\n",
       "      <td>Rashmin Panchal</td>\n",
       "      <td>Los Angeles</td>\n",
       "      <td>CA</td>\n",
       "      <td>rashmin panchal</td>\n",
       "      <td>RASHMIN PANCHAL</td>\n",
       "    </tr>\n",
       "    <tr>\n",
       "      <th>2</th>\n",
       "      <td>Anil Rana</td>\n",
       "      <td>Chicago</td>\n",
       "      <td>IL</td>\n",
       "      <td>anil rana</td>\n",
       "      <td>ANIL RANA</td>\n",
       "    </tr>\n",
       "    <tr>\n",
       "      <th>3</th>\n",
       "      <td>Rahul Patel</td>\n",
       "      <td>Houston</td>\n",
       "      <td>TX</td>\n",
       "      <td>rahul patel</td>\n",
       "      <td>RAHUL PATEL</td>\n",
       "    </tr>\n",
       "  </tbody>\n",
       "</table>\n",
       "</div>"
      ],
      "text/plain": [
       "              Name           City State       name_lower       name_upper\n",
       "0    Priyang Bhatt      New York     NY    priyang bhatt    PRIYANG BHATT\n",
       "1  Rashmin Panchal   Los Angeles     CA  rashmin panchal  RASHMIN PANCHAL\n",
       "2        Anil Rana        Chicago    IL        anil rana        ANIL RANA\n",
       "3      Rahul Patel        Houston    TX      rahul patel      RAHUL PATEL"
      ]
     },
     "execution_count": 16,
     "metadata": {},
     "output_type": "execute_result"
    }
   ],
   "source": [
    "data"
   ]
  },
  {
   "cell_type": "markdown",
   "id": "c6d5d91d-f79e-4260-a371-cc5bed3ac852",
   "metadata": {},
   "source": [
    "## 2. str.len()"
   ]
  },
  {
   "cell_type": "code",
   "execution_count": 246,
   "id": "fea25271-b194-46f4-8823-444071df155d",
   "metadata": {},
   "outputs": [
    {
     "data": {
      "text/plain": [
       "0    13\n",
       "1    15\n",
       "2     9\n",
       "3    11\n",
       "Name: Name, dtype: int64"
      ]
     },
     "execution_count": 246,
     "metadata": {},
     "output_type": "execute_result"
    }
   ],
   "source": [
    "# Calculate the length of each string in the 'Name' column of the DataFrame 'data'\n",
    "data['Name'].str.len()"
   ]
  },
  {
   "cell_type": "code",
   "execution_count": 248,
   "id": "0b865b12-ae2a-438f-823f-c0d309fca8de",
   "metadata": {},
   "outputs": [],
   "source": [
    "# Calculate the length of each name in the 'Name' column\n",
    "# and store the result in a new column 'Name_len'\n",
    "data['Name_len'] = data['Name'].str.len()"
   ]
  },
  {
   "cell_type": "code",
   "execution_count": 24,
   "id": "b32aecd6-f3fa-4ef2-8485-8b377c594794",
   "metadata": {},
   "outputs": [
    {
     "data": {
      "text/html": [
       "<div>\n",
       "<style scoped>\n",
       "    .dataframe tbody tr th:only-of-type {\n",
       "        vertical-align: middle;\n",
       "    }\n",
       "\n",
       "    .dataframe tbody tr th {\n",
       "        vertical-align: top;\n",
       "    }\n",
       "\n",
       "    .dataframe thead th {\n",
       "        text-align: right;\n",
       "    }\n",
       "</style>\n",
       "<table border=\"1\" class=\"dataframe\">\n",
       "  <thead>\n",
       "    <tr style=\"text-align: right;\">\n",
       "      <th></th>\n",
       "      <th>Name</th>\n",
       "      <th>City</th>\n",
       "      <th>State</th>\n",
       "      <th>name_lower</th>\n",
       "      <th>name_upper</th>\n",
       "      <th>Name_len</th>\n",
       "    </tr>\n",
       "  </thead>\n",
       "  <tbody>\n",
       "    <tr>\n",
       "      <th>0</th>\n",
       "      <td>Priyang Bhatt</td>\n",
       "      <td>New York</td>\n",
       "      <td>NY</td>\n",
       "      <td>priyang bhatt</td>\n",
       "      <td>PRIYANG BHATT</td>\n",
       "      <td>13</td>\n",
       "    </tr>\n",
       "    <tr>\n",
       "      <th>1</th>\n",
       "      <td>Rashmin Panchal</td>\n",
       "      <td>Los Angeles</td>\n",
       "      <td>CA</td>\n",
       "      <td>rashmin panchal</td>\n",
       "      <td>RASHMIN PANCHAL</td>\n",
       "      <td>15</td>\n",
       "    </tr>\n",
       "    <tr>\n",
       "      <th>2</th>\n",
       "      <td>Anil Rana</td>\n",
       "      <td>Chicago</td>\n",
       "      <td>IL</td>\n",
       "      <td>anil rana</td>\n",
       "      <td>ANIL RANA</td>\n",
       "      <td>9</td>\n",
       "    </tr>\n",
       "    <tr>\n",
       "      <th>3</th>\n",
       "      <td>Rahul Patel</td>\n",
       "      <td>Houston</td>\n",
       "      <td>TX</td>\n",
       "      <td>rahul patel</td>\n",
       "      <td>RAHUL PATEL</td>\n",
       "      <td>11</td>\n",
       "    </tr>\n",
       "  </tbody>\n",
       "</table>\n",
       "</div>"
      ],
      "text/plain": [
       "              Name           City State       name_lower       name_upper  \\\n",
       "0    Priyang Bhatt      New York     NY    priyang bhatt    PRIYANG BHATT   \n",
       "1  Rashmin Panchal   Los Angeles     CA  rashmin panchal  RASHMIN PANCHAL   \n",
       "2        Anil Rana        Chicago    IL        anil rana        ANIL RANA   \n",
       "3      Rahul Patel        Houston    TX      rahul patel      RAHUL PATEL   \n",
       "\n",
       "   Name_len  \n",
       "0        13  \n",
       "1        15  \n",
       "2         9  \n",
       "3        11  "
      ]
     },
     "execution_count": 24,
     "metadata": {},
     "output_type": "execute_result"
    }
   ],
   "source": [
    "data"
   ]
  },
  {
   "cell_type": "markdown",
   "id": "52b36d84-1b2f-46b6-9c5e-b1a2006bddec",
   "metadata": {},
   "source": [
    "## 3. str.strip()"
   ]
  },
  {
   "cell_type": "code",
   "execution_count": 250,
   "id": "b28020a7-ccb2-4114-8756-21c7fbe9c2db",
   "metadata": {},
   "outputs": [
    {
     "data": {
      "text/plain": [
       "' New York '"
      ]
     },
     "execution_count": 250,
     "metadata": {},
     "output_type": "execute_result"
    }
   ],
   "source": [
    "# Accessing the 'City' column from the 'data' DataFrame\n",
    "# Retrieving the first element (index 0) from the 'City' column\n",
    "data['City'][0]"
   ]
  },
  {
   "cell_type": "code",
   "execution_count": 39,
   "id": "a39218ec-59ee-46df-81af-e4fffa906b21",
   "metadata": {},
   "outputs": [
    {
     "data": {
      "text/plain": [
       "0        New York \n",
       "1     Los Angeles \n",
       "2          Chicago\n",
       "3          Houston\n",
       "Name: City, dtype: object"
      ]
     },
     "execution_count": 39,
     "metadata": {},
     "output_type": "execute_result"
    }
   ],
   "source": [
    "data['City']"
   ]
  },
  {
   "cell_type": "code",
   "execution_count": 252,
   "id": "f53e8af1-b1b2-4fd3-8c8b-457370269b7a",
   "metadata": {},
   "outputs": [
    {
     "data": {
      "text/plain": [
       "0       New York\n",
       "1    Los Angeles\n",
       "2        Chicago\n",
       "3        Houston\n",
       "Name: City, dtype: object"
      ]
     },
     "execution_count": 252,
     "metadata": {},
     "output_type": "execute_result"
    }
   ],
   "source": [
    "# Remove leading and trailing whitespace characters from the 'City' column in the DataFrame\n",
    "data['City'].str.strip()"
   ]
  },
  {
   "cell_type": "code",
   "execution_count": 254,
   "id": "4237ebdf-c000-4f1c-8585-eed34d034a40",
   "metadata": {},
   "outputs": [],
   "source": [
    "# Strip leading and trailing whitespace from the 'City' column\n",
    "data['City_strip'] = data['City'].str.strip()"
   ]
  },
  {
   "cell_type": "code",
   "execution_count": 45,
   "id": "ee990b3c-ed04-4248-963f-ac08cc1baa06",
   "metadata": {},
   "outputs": [
    {
     "data": {
      "text/html": [
       "<div>\n",
       "<style scoped>\n",
       "    .dataframe tbody tr th:only-of-type {\n",
       "        vertical-align: middle;\n",
       "    }\n",
       "\n",
       "    .dataframe tbody tr th {\n",
       "        vertical-align: top;\n",
       "    }\n",
       "\n",
       "    .dataframe thead th {\n",
       "        text-align: right;\n",
       "    }\n",
       "</style>\n",
       "<table border=\"1\" class=\"dataframe\">\n",
       "  <thead>\n",
       "    <tr style=\"text-align: right;\">\n",
       "      <th></th>\n",
       "      <th>Name</th>\n",
       "      <th>City</th>\n",
       "      <th>State</th>\n",
       "      <th>name_lower</th>\n",
       "      <th>name_upper</th>\n",
       "      <th>Name_len</th>\n",
       "      <th>City_strip</th>\n",
       "    </tr>\n",
       "  </thead>\n",
       "  <tbody>\n",
       "    <tr>\n",
       "      <th>0</th>\n",
       "      <td>Priyang Bhatt</td>\n",
       "      <td>New York</td>\n",
       "      <td>NY</td>\n",
       "      <td>priyang bhatt</td>\n",
       "      <td>PRIYANG BHATT</td>\n",
       "      <td>13</td>\n",
       "      <td>New York</td>\n",
       "    </tr>\n",
       "    <tr>\n",
       "      <th>1</th>\n",
       "      <td>Rashmin Panchal</td>\n",
       "      <td>Los Angeles</td>\n",
       "      <td>CA</td>\n",
       "      <td>rashmin panchal</td>\n",
       "      <td>RASHMIN PANCHAL</td>\n",
       "      <td>15</td>\n",
       "      <td>Los Angeles</td>\n",
       "    </tr>\n",
       "    <tr>\n",
       "      <th>2</th>\n",
       "      <td>Anil Rana</td>\n",
       "      <td>Chicago</td>\n",
       "      <td>IL</td>\n",
       "      <td>anil rana</td>\n",
       "      <td>ANIL RANA</td>\n",
       "      <td>9</td>\n",
       "      <td>Chicago</td>\n",
       "    </tr>\n",
       "    <tr>\n",
       "      <th>3</th>\n",
       "      <td>Rahul Patel</td>\n",
       "      <td>Houston</td>\n",
       "      <td>TX</td>\n",
       "      <td>rahul patel</td>\n",
       "      <td>RAHUL PATEL</td>\n",
       "      <td>11</td>\n",
       "      <td>Houston</td>\n",
       "    </tr>\n",
       "  </tbody>\n",
       "</table>\n",
       "</div>"
      ],
      "text/plain": [
       "              Name           City State       name_lower       name_upper  \\\n",
       "0    Priyang Bhatt      New York     NY    priyang bhatt    PRIYANG BHATT   \n",
       "1  Rashmin Panchal   Los Angeles     CA  rashmin panchal  RASHMIN PANCHAL   \n",
       "2        Anil Rana        Chicago    IL        anil rana        ANIL RANA   \n",
       "3      Rahul Patel        Houston    TX      rahul patel      RAHUL PATEL   \n",
       "\n",
       "   Name_len   City_strip  \n",
       "0        13     New York  \n",
       "1        15  Los Angeles  \n",
       "2         9      Chicago  \n",
       "3        11      Houston  "
      ]
     },
     "execution_count": 45,
     "metadata": {},
     "output_type": "execute_result"
    }
   ],
   "source": [
    "data"
   ]
  },
  {
   "cell_type": "code",
   "execution_count": 47,
   "id": "9fa26890-8c55-4a45-846f-e96f7ce174eb",
   "metadata": {},
   "outputs": [
    {
     "data": {
      "text/plain": [
       "'New York'"
      ]
     },
     "execution_count": 47,
     "metadata": {},
     "output_type": "execute_result"
    }
   ],
   "source": [
    "data['City_strip'][0]"
   ]
  },
  {
   "cell_type": "markdown",
   "id": "254bc9d9-ea8d-4419-bd0c-1fb20a170615",
   "metadata": {},
   "source": [
    "## lstrip() and rstrip()"
   ]
  },
  {
   "cell_type": "code",
   "execution_count": 50,
   "id": "93d1a434-ef83-4b11-a693-41110d449977",
   "metadata": {},
   "outputs": [
    {
     "data": {
      "text/plain": [
       "' New York '"
      ]
     },
     "execution_count": 50,
     "metadata": {},
     "output_type": "execute_result"
    }
   ],
   "source": [
    "data['City'][0]"
   ]
  },
  {
   "cell_type": "code",
   "execution_count": 52,
   "id": "e22dc255-bd3d-4efd-8ccb-d44ca527eba0",
   "metadata": {},
   "outputs": [],
   "source": [
    "data['city_lstrip']=data['City'].str.lstrip()"
   ]
  },
  {
   "cell_type": "code",
   "execution_count": 54,
   "id": "f832cdd5-e071-4680-bd26-a1db7bab1f47",
   "metadata": {},
   "outputs": [
    {
     "data": {
      "text/plain": [
       "'New York '"
      ]
     },
     "execution_count": 54,
     "metadata": {},
     "output_type": "execute_result"
    }
   ],
   "source": [
    "data['city_lstrip'][0]"
   ]
  },
  {
   "cell_type": "code",
   "execution_count": 56,
   "id": "bc07e151-48b8-4c1c-bdc8-aa1ffff0f73b",
   "metadata": {},
   "outputs": [],
   "source": [
    "data['city_rstrip']=data['City'].str.rstrip()"
   ]
  },
  {
   "cell_type": "code",
   "execution_count": 58,
   "id": "0122d4b6-2966-4d59-9f88-1281963bded9",
   "metadata": {},
   "outputs": [
    {
     "data": {
      "text/plain": [
       "' New York'"
      ]
     },
     "execution_count": 58,
     "metadata": {},
     "output_type": "execute_result"
    }
   ],
   "source": [
    "data['city_rstrip'][0]"
   ]
  },
  {
   "cell_type": "markdown",
   "id": "f9ea35c4-d305-4006-88d8-b8d259edc6ab",
   "metadata": {},
   "source": [
    "## 4. str.split()"
   ]
  },
  {
   "cell_type": "code",
   "execution_count": 61,
   "id": "0ab1f2a1-8a53-4189-9f4e-5125c64bb81c",
   "metadata": {},
   "outputs": [
    {
     "data": {
      "text/plain": [
       "0      Priyang Bhatt\n",
       "1    Rashmin Panchal\n",
       "2          Anil Rana\n",
       "3        Rahul Patel\n",
       "Name: Name, dtype: object"
      ]
     },
     "execution_count": 61,
     "metadata": {},
     "output_type": "execute_result"
    }
   ],
   "source": [
    "data['Name']"
   ]
  },
  {
   "cell_type": "code",
   "execution_count": 63,
   "id": "28128292-a955-47e1-b33a-e47884815dc3",
   "metadata": {},
   "outputs": [],
   "source": [
    "data[['First_name', 'Last_name']]=data['Name'].str.split(' ', expand=True)"
   ]
  },
  {
   "cell_type": "code",
   "execution_count": 65,
   "id": "860cd4d4-0383-4b19-9145-0b2851084d12",
   "metadata": {},
   "outputs": [
    {
     "data": {
      "text/html": [
       "<div>\n",
       "<style scoped>\n",
       "    .dataframe tbody tr th:only-of-type {\n",
       "        vertical-align: middle;\n",
       "    }\n",
       "\n",
       "    .dataframe tbody tr th {\n",
       "        vertical-align: top;\n",
       "    }\n",
       "\n",
       "    .dataframe thead th {\n",
       "        text-align: right;\n",
       "    }\n",
       "</style>\n",
       "<table border=\"1\" class=\"dataframe\">\n",
       "  <thead>\n",
       "    <tr style=\"text-align: right;\">\n",
       "      <th></th>\n",
       "      <th>Name</th>\n",
       "      <th>City</th>\n",
       "      <th>State</th>\n",
       "      <th>name_lower</th>\n",
       "      <th>name_upper</th>\n",
       "      <th>Name_len</th>\n",
       "      <th>City_strip</th>\n",
       "      <th>city_lstrip</th>\n",
       "      <th>city_rstrip</th>\n",
       "      <th>First_name</th>\n",
       "      <th>Last_name</th>\n",
       "    </tr>\n",
       "  </thead>\n",
       "  <tbody>\n",
       "    <tr>\n",
       "      <th>0</th>\n",
       "      <td>Priyang Bhatt</td>\n",
       "      <td>New York</td>\n",
       "      <td>NY</td>\n",
       "      <td>priyang bhatt</td>\n",
       "      <td>PRIYANG BHATT</td>\n",
       "      <td>13</td>\n",
       "      <td>New York</td>\n",
       "      <td>New York</td>\n",
       "      <td>New York</td>\n",
       "      <td>Priyang</td>\n",
       "      <td>Bhatt</td>\n",
       "    </tr>\n",
       "    <tr>\n",
       "      <th>1</th>\n",
       "      <td>Rashmin Panchal</td>\n",
       "      <td>Los Angeles</td>\n",
       "      <td>CA</td>\n",
       "      <td>rashmin panchal</td>\n",
       "      <td>RASHMIN PANCHAL</td>\n",
       "      <td>15</td>\n",
       "      <td>Los Angeles</td>\n",
       "      <td>Los Angeles</td>\n",
       "      <td>Los Angeles</td>\n",
       "      <td>Rashmin</td>\n",
       "      <td>Panchal</td>\n",
       "    </tr>\n",
       "    <tr>\n",
       "      <th>2</th>\n",
       "      <td>Anil Rana</td>\n",
       "      <td>Chicago</td>\n",
       "      <td>IL</td>\n",
       "      <td>anil rana</td>\n",
       "      <td>ANIL RANA</td>\n",
       "      <td>9</td>\n",
       "      <td>Chicago</td>\n",
       "      <td>Chicago</td>\n",
       "      <td>Chicago</td>\n",
       "      <td>Anil</td>\n",
       "      <td>Rana</td>\n",
       "    </tr>\n",
       "    <tr>\n",
       "      <th>3</th>\n",
       "      <td>Rahul Patel</td>\n",
       "      <td>Houston</td>\n",
       "      <td>TX</td>\n",
       "      <td>rahul patel</td>\n",
       "      <td>RAHUL PATEL</td>\n",
       "      <td>11</td>\n",
       "      <td>Houston</td>\n",
       "      <td>Houston</td>\n",
       "      <td>Houston</td>\n",
       "      <td>Rahul</td>\n",
       "      <td>Patel</td>\n",
       "    </tr>\n",
       "  </tbody>\n",
       "</table>\n",
       "</div>"
      ],
      "text/plain": [
       "              Name           City State       name_lower       name_upper  \\\n",
       "0    Priyang Bhatt      New York     NY    priyang bhatt    PRIYANG BHATT   \n",
       "1  Rashmin Panchal   Los Angeles     CA  rashmin panchal  RASHMIN PANCHAL   \n",
       "2        Anil Rana        Chicago    IL        anil rana        ANIL RANA   \n",
       "3      Rahul Patel        Houston    TX      rahul patel      RAHUL PATEL   \n",
       "\n",
       "   Name_len   City_strip   city_lstrip   city_rstrip First_name Last_name  \n",
       "0        13     New York     New York       New York    Priyang     Bhatt  \n",
       "1        15  Los Angeles  Los Angeles    Los Angeles    Rashmin   Panchal  \n",
       "2         9      Chicago       Chicago       Chicago       Anil      Rana  \n",
       "3        11      Houston       Houston       Houston      Rahul     Patel  "
      ]
     },
     "execution_count": 65,
     "metadata": {},
     "output_type": "execute_result"
    }
   ],
   "source": [
    "data"
   ]
  },
  {
   "cell_type": "markdown",
   "id": "d28d499e-d26e-4966-ac79-9f43a652c419",
   "metadata": {},
   "source": [
    "## 5. str.contains()"
   ]
  },
  {
   "cell_type": "code",
   "execution_count": 68,
   "id": "023b18a5-5d6f-41f7-a29d-38505bdb3a0e",
   "metadata": {},
   "outputs": [
    {
     "data": {
      "text/plain": [
       "0      Priyang Bhatt\n",
       "1    Rashmin Panchal\n",
       "2          Anil Rana\n",
       "3        Rahul Patel\n",
       "Name: Name, dtype: object"
      ]
     },
     "execution_count": 68,
     "metadata": {},
     "output_type": "execute_result"
    }
   ],
   "source": [
    "data['Name']"
   ]
  },
  {
   "cell_type": "code",
   "execution_count": 90,
   "id": "5b47a5f5-0cf1-4078-b70a-aebfa0aa7962",
   "metadata": {},
   "outputs": [
    {
     "data": {
      "text/html": [
       "<div>\n",
       "<style scoped>\n",
       "    .dataframe tbody tr th:only-of-type {\n",
       "        vertical-align: middle;\n",
       "    }\n",
       "\n",
       "    .dataframe tbody tr th {\n",
       "        vertical-align: top;\n",
       "    }\n",
       "\n",
       "    .dataframe thead th {\n",
       "        text-align: right;\n",
       "    }\n",
       "</style>\n",
       "<table border=\"1\" class=\"dataframe\">\n",
       "  <thead>\n",
       "    <tr style=\"text-align: right;\">\n",
       "      <th></th>\n",
       "      <th>Name</th>\n",
       "      <th>City</th>\n",
       "      <th>State</th>\n",
       "      <th>name_lower</th>\n",
       "      <th>name_upper</th>\n",
       "      <th>Name_len</th>\n",
       "      <th>City_strip</th>\n",
       "      <th>city_lstrip</th>\n",
       "      <th>city_rstrip</th>\n",
       "      <th>First_name</th>\n",
       "      <th>Last_name</th>\n",
       "    </tr>\n",
       "  </thead>\n",
       "  <tbody>\n",
       "    <tr>\n",
       "      <th>0</th>\n",
       "      <td>Priyang Bhatt</td>\n",
       "      <td>New York</td>\n",
       "      <td>NY</td>\n",
       "      <td>priyang bhatt</td>\n",
       "      <td>PRIYANG BHATT</td>\n",
       "      <td>13</td>\n",
       "      <td>New York</td>\n",
       "      <td>New York</td>\n",
       "      <td>New York</td>\n",
       "      <td>Priyang</td>\n",
       "      <td>Bhatt</td>\n",
       "    </tr>\n",
       "  </tbody>\n",
       "</table>\n",
       "</div>"
      ],
      "text/plain": [
       "            Name        City State     name_lower     name_upper  Name_len  \\\n",
       "0  Priyang Bhatt   New York     NY  priyang bhatt  PRIYANG BHATT        13   \n",
       "\n",
       "  City_strip city_lstrip city_rstrip First_name Last_name  \n",
       "0   New York   New York     New York    Priyang     Bhatt  "
      ]
     },
     "execution_count": 90,
     "metadata": {},
     "output_type": "execute_result"
    }
   ],
   "source": [
    "data[data['Name'].str.contains('Bhatt')]"
   ]
  },
  {
   "cell_type": "markdown",
   "id": "b184d207-4fe7-4509-899e-38542015ddb9",
   "metadata": {},
   "source": [
    "## 6.str.replace()"
   ]
  },
  {
   "cell_type": "code",
   "execution_count": 93,
   "id": "4b40dc0d-c84c-4eaf-8325-b4ab15b751ba",
   "metadata": {},
   "outputs": [
    {
     "data": {
      "text/html": [
       "<div>\n",
       "<style scoped>\n",
       "    .dataframe tbody tr th:only-of-type {\n",
       "        vertical-align: middle;\n",
       "    }\n",
       "\n",
       "    .dataframe tbody tr th {\n",
       "        vertical-align: top;\n",
       "    }\n",
       "\n",
       "    .dataframe thead th {\n",
       "        text-align: right;\n",
       "    }\n",
       "</style>\n",
       "<table border=\"1\" class=\"dataframe\">\n",
       "  <thead>\n",
       "    <tr style=\"text-align: right;\">\n",
       "      <th></th>\n",
       "      <th>Name</th>\n",
       "      <th>City</th>\n",
       "      <th>State</th>\n",
       "      <th>name_lower</th>\n",
       "      <th>name_upper</th>\n",
       "      <th>Name_len</th>\n",
       "      <th>City_strip</th>\n",
       "      <th>city_lstrip</th>\n",
       "      <th>city_rstrip</th>\n",
       "      <th>First_name</th>\n",
       "      <th>Last_name</th>\n",
       "    </tr>\n",
       "  </thead>\n",
       "  <tbody>\n",
       "    <tr>\n",
       "      <th>0</th>\n",
       "      <td>Priyang Bhatt</td>\n",
       "      <td>New York</td>\n",
       "      <td>NY</td>\n",
       "      <td>priyang bhatt</td>\n",
       "      <td>PRIYANG BHATT</td>\n",
       "      <td>13</td>\n",
       "      <td>New York</td>\n",
       "      <td>New York</td>\n",
       "      <td>New York</td>\n",
       "      <td>Priyang</td>\n",
       "      <td>Bhatt</td>\n",
       "    </tr>\n",
       "    <tr>\n",
       "      <th>1</th>\n",
       "      <td>Rashmin Panchal</td>\n",
       "      <td>Los Angeles</td>\n",
       "      <td>CA</td>\n",
       "      <td>rashmin panchal</td>\n",
       "      <td>RASHMIN PANCHAL</td>\n",
       "      <td>15</td>\n",
       "      <td>Los Angeles</td>\n",
       "      <td>Los Angeles</td>\n",
       "      <td>Los Angeles</td>\n",
       "      <td>Rashmin</td>\n",
       "      <td>Panchal</td>\n",
       "    </tr>\n",
       "    <tr>\n",
       "      <th>2</th>\n",
       "      <td>Anil Rana</td>\n",
       "      <td>Chicago</td>\n",
       "      <td>IL</td>\n",
       "      <td>anil rana</td>\n",
       "      <td>ANIL RANA</td>\n",
       "      <td>9</td>\n",
       "      <td>Chicago</td>\n",
       "      <td>Chicago</td>\n",
       "      <td>Chicago</td>\n",
       "      <td>Anil</td>\n",
       "      <td>Rana</td>\n",
       "    </tr>\n",
       "    <tr>\n",
       "      <th>3</th>\n",
       "      <td>Rahul Patel</td>\n",
       "      <td>Houston</td>\n",
       "      <td>TX</td>\n",
       "      <td>rahul patel</td>\n",
       "      <td>RAHUL PATEL</td>\n",
       "      <td>11</td>\n",
       "      <td>Houston</td>\n",
       "      <td>Houston</td>\n",
       "      <td>Houston</td>\n",
       "      <td>Rahul</td>\n",
       "      <td>Patel</td>\n",
       "    </tr>\n",
       "  </tbody>\n",
       "</table>\n",
       "</div>"
      ],
      "text/plain": [
       "              Name           City State       name_lower       name_upper  \\\n",
       "0    Priyang Bhatt      New York     NY    priyang bhatt    PRIYANG BHATT   \n",
       "1  Rashmin Panchal   Los Angeles     CA  rashmin panchal  RASHMIN PANCHAL   \n",
       "2        Anil Rana        Chicago    IL        anil rana        ANIL RANA   \n",
       "3      Rahul Patel        Houston    TX      rahul patel      RAHUL PATEL   \n",
       "\n",
       "   Name_len   City_strip   city_lstrip   city_rstrip First_name Last_name  \n",
       "0        13     New York     New York       New York    Priyang     Bhatt  \n",
       "1        15  Los Angeles  Los Angeles    Los Angeles    Rashmin   Panchal  \n",
       "2         9      Chicago       Chicago       Chicago       Anil      Rana  \n",
       "3        11      Houston       Houston       Houston      Rahul     Patel  "
      ]
     },
     "execution_count": 93,
     "metadata": {},
     "output_type": "execute_result"
    }
   ],
   "source": [
    "data"
   ]
  },
  {
   "cell_type": "code",
   "execution_count": 95,
   "id": "2990697b-ef63-4e02-ab1c-62acd29807ed",
   "metadata": {},
   "outputs": [
    {
     "data": {
      "text/plain": [
       "0    NY\n",
       "1    CA\n",
       "2    IL\n",
       "3    TX\n",
       "Name: State, dtype: object"
      ]
     },
     "execution_count": 95,
     "metadata": {},
     "output_type": "execute_result"
    }
   ],
   "source": [
    "data['State']"
   ]
  },
  {
   "cell_type": "code",
   "execution_count": 97,
   "id": "e961f849-1ad3-4823-9e3a-b83ae264c9ae",
   "metadata": {},
   "outputs": [
    {
     "data": {
      "text/plain": [
       "0    New York\n",
       "1          CA\n",
       "2          IL\n",
       "3          TX\n",
       "Name: State, dtype: object"
      ]
     },
     "execution_count": 97,
     "metadata": {},
     "output_type": "execute_result"
    }
   ],
   "source": [
    "data['State'].str.replace('NY', 'New York')"
   ]
  },
  {
   "cell_type": "code",
   "execution_count": 99,
   "id": "c774cd32-0f89-4048-851e-c3dd342fe221",
   "metadata": {},
   "outputs": [],
   "source": [
    "data['State_replaced']= data['State'].str.replace('NY', 'New York')"
   ]
  },
  {
   "cell_type": "code",
   "execution_count": 101,
   "id": "beb58e62-11e4-45e3-ba18-2ba31074bd31",
   "metadata": {},
   "outputs": [
    {
     "data": {
      "text/html": [
       "<div>\n",
       "<style scoped>\n",
       "    .dataframe tbody tr th:only-of-type {\n",
       "        vertical-align: middle;\n",
       "    }\n",
       "\n",
       "    .dataframe tbody tr th {\n",
       "        vertical-align: top;\n",
       "    }\n",
       "\n",
       "    .dataframe thead th {\n",
       "        text-align: right;\n",
       "    }\n",
       "</style>\n",
       "<table border=\"1\" class=\"dataframe\">\n",
       "  <thead>\n",
       "    <tr style=\"text-align: right;\">\n",
       "      <th></th>\n",
       "      <th>Name</th>\n",
       "      <th>City</th>\n",
       "      <th>State</th>\n",
       "      <th>name_lower</th>\n",
       "      <th>name_upper</th>\n",
       "      <th>Name_len</th>\n",
       "      <th>City_strip</th>\n",
       "      <th>city_lstrip</th>\n",
       "      <th>city_rstrip</th>\n",
       "      <th>First_name</th>\n",
       "      <th>Last_name</th>\n",
       "      <th>State_replaced</th>\n",
       "    </tr>\n",
       "  </thead>\n",
       "  <tbody>\n",
       "    <tr>\n",
       "      <th>0</th>\n",
       "      <td>Priyang Bhatt</td>\n",
       "      <td>New York</td>\n",
       "      <td>NY</td>\n",
       "      <td>priyang bhatt</td>\n",
       "      <td>PRIYANG BHATT</td>\n",
       "      <td>13</td>\n",
       "      <td>New York</td>\n",
       "      <td>New York</td>\n",
       "      <td>New York</td>\n",
       "      <td>Priyang</td>\n",
       "      <td>Bhatt</td>\n",
       "      <td>New York</td>\n",
       "    </tr>\n",
       "    <tr>\n",
       "      <th>1</th>\n",
       "      <td>Rashmin Panchal</td>\n",
       "      <td>Los Angeles</td>\n",
       "      <td>CA</td>\n",
       "      <td>rashmin panchal</td>\n",
       "      <td>RASHMIN PANCHAL</td>\n",
       "      <td>15</td>\n",
       "      <td>Los Angeles</td>\n",
       "      <td>Los Angeles</td>\n",
       "      <td>Los Angeles</td>\n",
       "      <td>Rashmin</td>\n",
       "      <td>Panchal</td>\n",
       "      <td>CA</td>\n",
       "    </tr>\n",
       "    <tr>\n",
       "      <th>2</th>\n",
       "      <td>Anil Rana</td>\n",
       "      <td>Chicago</td>\n",
       "      <td>IL</td>\n",
       "      <td>anil rana</td>\n",
       "      <td>ANIL RANA</td>\n",
       "      <td>9</td>\n",
       "      <td>Chicago</td>\n",
       "      <td>Chicago</td>\n",
       "      <td>Chicago</td>\n",
       "      <td>Anil</td>\n",
       "      <td>Rana</td>\n",
       "      <td>IL</td>\n",
       "    </tr>\n",
       "    <tr>\n",
       "      <th>3</th>\n",
       "      <td>Rahul Patel</td>\n",
       "      <td>Houston</td>\n",
       "      <td>TX</td>\n",
       "      <td>rahul patel</td>\n",
       "      <td>RAHUL PATEL</td>\n",
       "      <td>11</td>\n",
       "      <td>Houston</td>\n",
       "      <td>Houston</td>\n",
       "      <td>Houston</td>\n",
       "      <td>Rahul</td>\n",
       "      <td>Patel</td>\n",
       "      <td>TX</td>\n",
       "    </tr>\n",
       "  </tbody>\n",
       "</table>\n",
       "</div>"
      ],
      "text/plain": [
       "              Name           City State       name_lower       name_upper  \\\n",
       "0    Priyang Bhatt      New York     NY    priyang bhatt    PRIYANG BHATT   \n",
       "1  Rashmin Panchal   Los Angeles     CA  rashmin panchal  RASHMIN PANCHAL   \n",
       "2        Anil Rana        Chicago    IL        anil rana        ANIL RANA   \n",
       "3      Rahul Patel        Houston    TX      rahul patel      RAHUL PATEL   \n",
       "\n",
       "   Name_len   City_strip   city_lstrip   city_rstrip First_name Last_name  \\\n",
       "0        13     New York     New York       New York    Priyang     Bhatt   \n",
       "1        15  Los Angeles  Los Angeles    Los Angeles    Rashmin   Panchal   \n",
       "2         9      Chicago       Chicago       Chicago       Anil      Rana   \n",
       "3        11      Houston       Houston       Houston      Rahul     Patel   \n",
       "\n",
       "  State_replaced  \n",
       "0       New York  \n",
       "1             CA  \n",
       "2             IL  \n",
       "3             TX  "
      ]
     },
     "execution_count": 101,
     "metadata": {},
     "output_type": "execute_result"
    }
   ],
   "source": [
    "data"
   ]
  },
  {
   "cell_type": "code",
   "execution_count": 103,
   "id": "ab306019-44ab-42fd-9511-c53a2ee38847",
   "metadata": {},
   "outputs": [],
   "source": [
    "data['State_replaced']= data['State'].str.replace('NY', 'New York').str.replace('CA', 'California')"
   ]
  },
  {
   "cell_type": "code",
   "execution_count": 105,
   "id": "7c65c526-6b03-4e39-9f2b-ee969d15e887",
   "metadata": {},
   "outputs": [
    {
     "data": {
      "text/html": [
       "<div>\n",
       "<style scoped>\n",
       "    .dataframe tbody tr th:only-of-type {\n",
       "        vertical-align: middle;\n",
       "    }\n",
       "\n",
       "    .dataframe tbody tr th {\n",
       "        vertical-align: top;\n",
       "    }\n",
       "\n",
       "    .dataframe thead th {\n",
       "        text-align: right;\n",
       "    }\n",
       "</style>\n",
       "<table border=\"1\" class=\"dataframe\">\n",
       "  <thead>\n",
       "    <tr style=\"text-align: right;\">\n",
       "      <th></th>\n",
       "      <th>Name</th>\n",
       "      <th>City</th>\n",
       "      <th>State</th>\n",
       "      <th>name_lower</th>\n",
       "      <th>name_upper</th>\n",
       "      <th>Name_len</th>\n",
       "      <th>City_strip</th>\n",
       "      <th>city_lstrip</th>\n",
       "      <th>city_rstrip</th>\n",
       "      <th>First_name</th>\n",
       "      <th>Last_name</th>\n",
       "      <th>State_replaced</th>\n",
       "    </tr>\n",
       "  </thead>\n",
       "  <tbody>\n",
       "    <tr>\n",
       "      <th>0</th>\n",
       "      <td>Priyang Bhatt</td>\n",
       "      <td>New York</td>\n",
       "      <td>NY</td>\n",
       "      <td>priyang bhatt</td>\n",
       "      <td>PRIYANG BHATT</td>\n",
       "      <td>13</td>\n",
       "      <td>New York</td>\n",
       "      <td>New York</td>\n",
       "      <td>New York</td>\n",
       "      <td>Priyang</td>\n",
       "      <td>Bhatt</td>\n",
       "      <td>New York</td>\n",
       "    </tr>\n",
       "    <tr>\n",
       "      <th>1</th>\n",
       "      <td>Rashmin Panchal</td>\n",
       "      <td>Los Angeles</td>\n",
       "      <td>CA</td>\n",
       "      <td>rashmin panchal</td>\n",
       "      <td>RASHMIN PANCHAL</td>\n",
       "      <td>15</td>\n",
       "      <td>Los Angeles</td>\n",
       "      <td>Los Angeles</td>\n",
       "      <td>Los Angeles</td>\n",
       "      <td>Rashmin</td>\n",
       "      <td>Panchal</td>\n",
       "      <td>California</td>\n",
       "    </tr>\n",
       "    <tr>\n",
       "      <th>2</th>\n",
       "      <td>Anil Rana</td>\n",
       "      <td>Chicago</td>\n",
       "      <td>IL</td>\n",
       "      <td>anil rana</td>\n",
       "      <td>ANIL RANA</td>\n",
       "      <td>9</td>\n",
       "      <td>Chicago</td>\n",
       "      <td>Chicago</td>\n",
       "      <td>Chicago</td>\n",
       "      <td>Anil</td>\n",
       "      <td>Rana</td>\n",
       "      <td>IL</td>\n",
       "    </tr>\n",
       "    <tr>\n",
       "      <th>3</th>\n",
       "      <td>Rahul Patel</td>\n",
       "      <td>Houston</td>\n",
       "      <td>TX</td>\n",
       "      <td>rahul patel</td>\n",
       "      <td>RAHUL PATEL</td>\n",
       "      <td>11</td>\n",
       "      <td>Houston</td>\n",
       "      <td>Houston</td>\n",
       "      <td>Houston</td>\n",
       "      <td>Rahul</td>\n",
       "      <td>Patel</td>\n",
       "      <td>TX</td>\n",
       "    </tr>\n",
       "  </tbody>\n",
       "</table>\n",
       "</div>"
      ],
      "text/plain": [
       "              Name           City State       name_lower       name_upper  \\\n",
       "0    Priyang Bhatt      New York     NY    priyang bhatt    PRIYANG BHATT   \n",
       "1  Rashmin Panchal   Los Angeles     CA  rashmin panchal  RASHMIN PANCHAL   \n",
       "2        Anil Rana        Chicago    IL        anil rana        ANIL RANA   \n",
       "3      Rahul Patel        Houston    TX      rahul patel      RAHUL PATEL   \n",
       "\n",
       "   Name_len   City_strip   city_lstrip   city_rstrip First_name Last_name  \\\n",
       "0        13     New York     New York       New York    Priyang     Bhatt   \n",
       "1        15  Los Angeles  Los Angeles    Los Angeles    Rashmin   Panchal   \n",
       "2         9      Chicago       Chicago       Chicago       Anil      Rana   \n",
       "3        11      Houston       Houston       Houston      Rahul     Patel   \n",
       "\n",
       "  State_replaced  \n",
       "0       New York  \n",
       "1     California  \n",
       "2             IL  \n",
       "3             TX  "
      ]
     },
     "execution_count": 105,
     "metadata": {},
     "output_type": "execute_result"
    }
   ],
   "source": [
    "data"
   ]
  },
  {
   "cell_type": "markdown",
   "id": "177cc5a0-bdd4-4931-ac8c-719eb3d5440e",
   "metadata": {},
   "source": [
    "## 7. str.startswith() and str.endswith()"
   ]
  },
  {
   "cell_type": "code",
   "execution_count": 108,
   "id": "5de13a13-ad3c-4f4c-834a-463dd803f227",
   "metadata": {},
   "outputs": [
    {
     "data": {
      "text/html": [
       "<div>\n",
       "<style scoped>\n",
       "    .dataframe tbody tr th:only-of-type {\n",
       "        vertical-align: middle;\n",
       "    }\n",
       "\n",
       "    .dataframe tbody tr th {\n",
       "        vertical-align: top;\n",
       "    }\n",
       "\n",
       "    .dataframe thead th {\n",
       "        text-align: right;\n",
       "    }\n",
       "</style>\n",
       "<table border=\"1\" class=\"dataframe\">\n",
       "  <thead>\n",
       "    <tr style=\"text-align: right;\">\n",
       "      <th></th>\n",
       "      <th>Name</th>\n",
       "      <th>City</th>\n",
       "      <th>State</th>\n",
       "      <th>name_lower</th>\n",
       "      <th>name_upper</th>\n",
       "      <th>Name_len</th>\n",
       "      <th>City_strip</th>\n",
       "      <th>city_lstrip</th>\n",
       "      <th>city_rstrip</th>\n",
       "      <th>First_name</th>\n",
       "      <th>Last_name</th>\n",
       "      <th>State_replaced</th>\n",
       "    </tr>\n",
       "  </thead>\n",
       "  <tbody>\n",
       "    <tr>\n",
       "      <th>0</th>\n",
       "      <td>Priyang Bhatt</td>\n",
       "      <td>New York</td>\n",
       "      <td>NY</td>\n",
       "      <td>priyang bhatt</td>\n",
       "      <td>PRIYANG BHATT</td>\n",
       "      <td>13</td>\n",
       "      <td>New York</td>\n",
       "      <td>New York</td>\n",
       "      <td>New York</td>\n",
       "      <td>Priyang</td>\n",
       "      <td>Bhatt</td>\n",
       "      <td>New York</td>\n",
       "    </tr>\n",
       "    <tr>\n",
       "      <th>1</th>\n",
       "      <td>Rashmin Panchal</td>\n",
       "      <td>Los Angeles</td>\n",
       "      <td>CA</td>\n",
       "      <td>rashmin panchal</td>\n",
       "      <td>RASHMIN PANCHAL</td>\n",
       "      <td>15</td>\n",
       "      <td>Los Angeles</td>\n",
       "      <td>Los Angeles</td>\n",
       "      <td>Los Angeles</td>\n",
       "      <td>Rashmin</td>\n",
       "      <td>Panchal</td>\n",
       "      <td>California</td>\n",
       "    </tr>\n",
       "    <tr>\n",
       "      <th>2</th>\n",
       "      <td>Anil Rana</td>\n",
       "      <td>Chicago</td>\n",
       "      <td>IL</td>\n",
       "      <td>anil rana</td>\n",
       "      <td>ANIL RANA</td>\n",
       "      <td>9</td>\n",
       "      <td>Chicago</td>\n",
       "      <td>Chicago</td>\n",
       "      <td>Chicago</td>\n",
       "      <td>Anil</td>\n",
       "      <td>Rana</td>\n",
       "      <td>IL</td>\n",
       "    </tr>\n",
       "    <tr>\n",
       "      <th>3</th>\n",
       "      <td>Rahul Patel</td>\n",
       "      <td>Houston</td>\n",
       "      <td>TX</td>\n",
       "      <td>rahul patel</td>\n",
       "      <td>RAHUL PATEL</td>\n",
       "      <td>11</td>\n",
       "      <td>Houston</td>\n",
       "      <td>Houston</td>\n",
       "      <td>Houston</td>\n",
       "      <td>Rahul</td>\n",
       "      <td>Patel</td>\n",
       "      <td>TX</td>\n",
       "    </tr>\n",
       "  </tbody>\n",
       "</table>\n",
       "</div>"
      ],
      "text/plain": [
       "              Name           City State       name_lower       name_upper  \\\n",
       "0    Priyang Bhatt      New York     NY    priyang bhatt    PRIYANG BHATT   \n",
       "1  Rashmin Panchal   Los Angeles     CA  rashmin panchal  RASHMIN PANCHAL   \n",
       "2        Anil Rana        Chicago    IL        anil rana        ANIL RANA   \n",
       "3      Rahul Patel        Houston    TX      rahul patel      RAHUL PATEL   \n",
       "\n",
       "   Name_len   City_strip   city_lstrip   city_rstrip First_name Last_name  \\\n",
       "0        13     New York     New York       New York    Priyang     Bhatt   \n",
       "1        15  Los Angeles  Los Angeles    Los Angeles    Rashmin   Panchal   \n",
       "2         9      Chicago       Chicago       Chicago       Anil      Rana   \n",
       "3        11      Houston       Houston       Houston      Rahul     Patel   \n",
       "\n",
       "  State_replaced  \n",
       "0       New York  \n",
       "1     California  \n",
       "2             IL  \n",
       "3             TX  "
      ]
     },
     "execution_count": 108,
     "metadata": {},
     "output_type": "execute_result"
    }
   ],
   "source": [
    "data"
   ]
  },
  {
   "cell_type": "code",
   "execution_count": 110,
   "id": "9193e27b-0206-40ed-9501-6c2ce697a942",
   "metadata": {},
   "outputs": [
    {
     "data": {
      "text/plain": [
       "0      Priyang Bhatt\n",
       "1    Rashmin Panchal\n",
       "2          Anil Rana\n",
       "3        Rahul Patel\n",
       "Name: Name, dtype: object"
      ]
     },
     "execution_count": 110,
     "metadata": {},
     "output_type": "execute_result"
    }
   ],
   "source": [
    "data['Name']"
   ]
  },
  {
   "cell_type": "code",
   "execution_count": 112,
   "id": "b96a20a1-16a3-4fcf-81aa-0f3e3e8497a8",
   "metadata": {},
   "outputs": [
    {
     "data": {
      "text/plain": [
       "0     True\n",
       "1    False\n",
       "2    False\n",
       "3    False\n",
       "Name: Name, dtype: bool"
      ]
     },
     "execution_count": 112,
     "metadata": {},
     "output_type": "execute_result"
    }
   ],
   "source": [
    "data['Name'].str.startswith('P')"
   ]
  },
  {
   "cell_type": "code",
   "execution_count": 114,
   "id": "b7590614-8aa7-435f-b47b-3a1256f441e3",
   "metadata": {},
   "outputs": [
    {
     "data": {
      "text/html": [
       "<div>\n",
       "<style scoped>\n",
       "    .dataframe tbody tr th:only-of-type {\n",
       "        vertical-align: middle;\n",
       "    }\n",
       "\n",
       "    .dataframe tbody tr th {\n",
       "        vertical-align: top;\n",
       "    }\n",
       "\n",
       "    .dataframe thead th {\n",
       "        text-align: right;\n",
       "    }\n",
       "</style>\n",
       "<table border=\"1\" class=\"dataframe\">\n",
       "  <thead>\n",
       "    <tr style=\"text-align: right;\">\n",
       "      <th></th>\n",
       "      <th>Name</th>\n",
       "      <th>City</th>\n",
       "      <th>State</th>\n",
       "      <th>name_lower</th>\n",
       "      <th>name_upper</th>\n",
       "      <th>Name_len</th>\n",
       "      <th>City_strip</th>\n",
       "      <th>city_lstrip</th>\n",
       "      <th>city_rstrip</th>\n",
       "      <th>First_name</th>\n",
       "      <th>Last_name</th>\n",
       "      <th>State_replaced</th>\n",
       "    </tr>\n",
       "  </thead>\n",
       "  <tbody>\n",
       "    <tr>\n",
       "      <th>0</th>\n",
       "      <td>Priyang Bhatt</td>\n",
       "      <td>New York</td>\n",
       "      <td>NY</td>\n",
       "      <td>priyang bhatt</td>\n",
       "      <td>PRIYANG BHATT</td>\n",
       "      <td>13</td>\n",
       "      <td>New York</td>\n",
       "      <td>New York</td>\n",
       "      <td>New York</td>\n",
       "      <td>Priyang</td>\n",
       "      <td>Bhatt</td>\n",
       "      <td>New York</td>\n",
       "    </tr>\n",
       "  </tbody>\n",
       "</table>\n",
       "</div>"
      ],
      "text/plain": [
       "            Name        City State     name_lower     name_upper  Name_len  \\\n",
       "0  Priyang Bhatt   New York     NY  priyang bhatt  PRIYANG BHATT        13   \n",
       "\n",
       "  City_strip city_lstrip city_rstrip First_name Last_name State_replaced  \n",
       "0   New York   New York     New York    Priyang     Bhatt       New York  "
      ]
     },
     "execution_count": 114,
     "metadata": {},
     "output_type": "execute_result"
    }
   ],
   "source": [
    "data[data['Name'].str.startswith('P')]"
   ]
  },
  {
   "cell_type": "code",
   "execution_count": 121,
   "id": "2f2ae69b-e0ec-45c1-903c-66031eebb704",
   "metadata": {},
   "outputs": [
    {
     "data": {
      "text/html": [
       "<div>\n",
       "<style scoped>\n",
       "    .dataframe tbody tr th:only-of-type {\n",
       "        vertical-align: middle;\n",
       "    }\n",
       "\n",
       "    .dataframe tbody tr th {\n",
       "        vertical-align: top;\n",
       "    }\n",
       "\n",
       "    .dataframe thead th {\n",
       "        text-align: right;\n",
       "    }\n",
       "</style>\n",
       "<table border=\"1\" class=\"dataframe\">\n",
       "  <thead>\n",
       "    <tr style=\"text-align: right;\">\n",
       "      <th></th>\n",
       "      <th>Name</th>\n",
       "      <th>City</th>\n",
       "      <th>State</th>\n",
       "      <th>name_lower</th>\n",
       "      <th>name_upper</th>\n",
       "      <th>Name_len</th>\n",
       "      <th>City_strip</th>\n",
       "      <th>city_lstrip</th>\n",
       "      <th>city_rstrip</th>\n",
       "      <th>First_name</th>\n",
       "      <th>Last_name</th>\n",
       "      <th>State_replaced</th>\n",
       "    </tr>\n",
       "  </thead>\n",
       "  <tbody>\n",
       "    <tr>\n",
       "      <th>1</th>\n",
       "      <td>Rashmin Panchal</td>\n",
       "      <td>Los Angeles</td>\n",
       "      <td>CA</td>\n",
       "      <td>rashmin panchal</td>\n",
       "      <td>RASHMIN PANCHAL</td>\n",
       "      <td>15</td>\n",
       "      <td>Los Angeles</td>\n",
       "      <td>Los Angeles</td>\n",
       "      <td>Los Angeles</td>\n",
       "      <td>Rashmin</td>\n",
       "      <td>Panchal</td>\n",
       "      <td>California</td>\n",
       "    </tr>\n",
       "    <tr>\n",
       "      <th>3</th>\n",
       "      <td>Rahul Patel</td>\n",
       "      <td>Houston</td>\n",
       "      <td>TX</td>\n",
       "      <td>rahul patel</td>\n",
       "      <td>RAHUL PATEL</td>\n",
       "      <td>11</td>\n",
       "      <td>Houston</td>\n",
       "      <td>Houston</td>\n",
       "      <td>Houston</td>\n",
       "      <td>Rahul</td>\n",
       "      <td>Patel</td>\n",
       "      <td>TX</td>\n",
       "    </tr>\n",
       "  </tbody>\n",
       "</table>\n",
       "</div>"
      ],
      "text/plain": [
       "              Name           City State       name_lower       name_upper  \\\n",
       "1  Rashmin Panchal   Los Angeles     CA  rashmin panchal  RASHMIN PANCHAL   \n",
       "3      Rahul Patel        Houston    TX      rahul patel      RAHUL PATEL   \n",
       "\n",
       "   Name_len   City_strip   city_lstrip   city_rstrip First_name Last_name  \\\n",
       "1        15  Los Angeles  Los Angeles    Los Angeles    Rashmin   Panchal   \n",
       "3        11      Houston       Houston       Houston      Rahul     Patel   \n",
       "\n",
       "  State_replaced  \n",
       "1     California  \n",
       "3             TX  "
      ]
     },
     "execution_count": 121,
     "metadata": {},
     "output_type": "execute_result"
    }
   ],
   "source": [
    "data[data['Last_name'].str.endswith('l')]"
   ]
  },
  {
   "cell_type": "code",
   "execution_count": 123,
   "id": "ef5933d1-4ec8-4e72-bba5-c2af1276c86b",
   "metadata": {},
   "outputs": [],
   "source": [
    "data['ends_with_l']=data['Last_name'].str.endswith('l')"
   ]
  },
  {
   "cell_type": "code",
   "execution_count": 125,
   "id": "2799ee43-b67d-4d6f-8cf3-44625295fb31",
   "metadata": {},
   "outputs": [
    {
     "data": {
      "text/html": [
       "<div>\n",
       "<style scoped>\n",
       "    .dataframe tbody tr th:only-of-type {\n",
       "        vertical-align: middle;\n",
       "    }\n",
       "\n",
       "    .dataframe tbody tr th {\n",
       "        vertical-align: top;\n",
       "    }\n",
       "\n",
       "    .dataframe thead th {\n",
       "        text-align: right;\n",
       "    }\n",
       "</style>\n",
       "<table border=\"1\" class=\"dataframe\">\n",
       "  <thead>\n",
       "    <tr style=\"text-align: right;\">\n",
       "      <th></th>\n",
       "      <th>Name</th>\n",
       "      <th>City</th>\n",
       "      <th>State</th>\n",
       "      <th>name_lower</th>\n",
       "      <th>name_upper</th>\n",
       "      <th>Name_len</th>\n",
       "      <th>City_strip</th>\n",
       "      <th>city_lstrip</th>\n",
       "      <th>city_rstrip</th>\n",
       "      <th>First_name</th>\n",
       "      <th>Last_name</th>\n",
       "      <th>State_replaced</th>\n",
       "      <th>ends_with_l</th>\n",
       "    </tr>\n",
       "  </thead>\n",
       "  <tbody>\n",
       "    <tr>\n",
       "      <th>0</th>\n",
       "      <td>Priyang Bhatt</td>\n",
       "      <td>New York</td>\n",
       "      <td>NY</td>\n",
       "      <td>priyang bhatt</td>\n",
       "      <td>PRIYANG BHATT</td>\n",
       "      <td>13</td>\n",
       "      <td>New York</td>\n",
       "      <td>New York</td>\n",
       "      <td>New York</td>\n",
       "      <td>Priyang</td>\n",
       "      <td>Bhatt</td>\n",
       "      <td>New York</td>\n",
       "      <td>False</td>\n",
       "    </tr>\n",
       "    <tr>\n",
       "      <th>1</th>\n",
       "      <td>Rashmin Panchal</td>\n",
       "      <td>Los Angeles</td>\n",
       "      <td>CA</td>\n",
       "      <td>rashmin panchal</td>\n",
       "      <td>RASHMIN PANCHAL</td>\n",
       "      <td>15</td>\n",
       "      <td>Los Angeles</td>\n",
       "      <td>Los Angeles</td>\n",
       "      <td>Los Angeles</td>\n",
       "      <td>Rashmin</td>\n",
       "      <td>Panchal</td>\n",
       "      <td>California</td>\n",
       "      <td>True</td>\n",
       "    </tr>\n",
       "    <tr>\n",
       "      <th>2</th>\n",
       "      <td>Anil Rana</td>\n",
       "      <td>Chicago</td>\n",
       "      <td>IL</td>\n",
       "      <td>anil rana</td>\n",
       "      <td>ANIL RANA</td>\n",
       "      <td>9</td>\n",
       "      <td>Chicago</td>\n",
       "      <td>Chicago</td>\n",
       "      <td>Chicago</td>\n",
       "      <td>Anil</td>\n",
       "      <td>Rana</td>\n",
       "      <td>IL</td>\n",
       "      <td>False</td>\n",
       "    </tr>\n",
       "    <tr>\n",
       "      <th>3</th>\n",
       "      <td>Rahul Patel</td>\n",
       "      <td>Houston</td>\n",
       "      <td>TX</td>\n",
       "      <td>rahul patel</td>\n",
       "      <td>RAHUL PATEL</td>\n",
       "      <td>11</td>\n",
       "      <td>Houston</td>\n",
       "      <td>Houston</td>\n",
       "      <td>Houston</td>\n",
       "      <td>Rahul</td>\n",
       "      <td>Patel</td>\n",
       "      <td>TX</td>\n",
       "      <td>True</td>\n",
       "    </tr>\n",
       "  </tbody>\n",
       "</table>\n",
       "</div>"
      ],
      "text/plain": [
       "              Name           City State       name_lower       name_upper  \\\n",
       "0    Priyang Bhatt      New York     NY    priyang bhatt    PRIYANG BHATT   \n",
       "1  Rashmin Panchal   Los Angeles     CA  rashmin panchal  RASHMIN PANCHAL   \n",
       "2        Anil Rana        Chicago    IL        anil rana        ANIL RANA   \n",
       "3      Rahul Patel        Houston    TX      rahul patel      RAHUL PATEL   \n",
       "\n",
       "   Name_len   City_strip   city_lstrip   city_rstrip First_name Last_name  \\\n",
       "0        13     New York     New York       New York    Priyang     Bhatt   \n",
       "1        15  Los Angeles  Los Angeles    Los Angeles    Rashmin   Panchal   \n",
       "2         9      Chicago       Chicago       Chicago       Anil      Rana   \n",
       "3        11      Houston       Houston       Houston      Rahul     Patel   \n",
       "\n",
       "  State_replaced  ends_with_l  \n",
       "0       New York        False  \n",
       "1     California         True  \n",
       "2             IL        False  \n",
       "3             TX         True  "
      ]
     },
     "execution_count": 125,
     "metadata": {},
     "output_type": "execute_result"
    }
   ],
   "source": [
    "data"
   ]
  },
  {
   "cell_type": "markdown",
   "id": "a97de188-03b7-45d1-806c-c2ec18073822",
   "metadata": {},
   "source": [
    "## 8.str.cat()"
   ]
  },
  {
   "cell_type": "code",
   "execution_count": 128,
   "id": "b916ed38-01bf-4356-ab75-f4912398d25c",
   "metadata": {},
   "outputs": [
    {
     "data": {
      "text/html": [
       "<div>\n",
       "<style scoped>\n",
       "    .dataframe tbody tr th:only-of-type {\n",
       "        vertical-align: middle;\n",
       "    }\n",
       "\n",
       "    .dataframe tbody tr th {\n",
       "        vertical-align: top;\n",
       "    }\n",
       "\n",
       "    .dataframe thead th {\n",
       "        text-align: right;\n",
       "    }\n",
       "</style>\n",
       "<table border=\"1\" class=\"dataframe\">\n",
       "  <thead>\n",
       "    <tr style=\"text-align: right;\">\n",
       "      <th></th>\n",
       "      <th>Name</th>\n",
       "      <th>City</th>\n",
       "      <th>State</th>\n",
       "      <th>name_lower</th>\n",
       "      <th>name_upper</th>\n",
       "      <th>Name_len</th>\n",
       "      <th>City_strip</th>\n",
       "      <th>city_lstrip</th>\n",
       "      <th>city_rstrip</th>\n",
       "      <th>First_name</th>\n",
       "      <th>Last_name</th>\n",
       "      <th>State_replaced</th>\n",
       "      <th>ends_with_l</th>\n",
       "    </tr>\n",
       "  </thead>\n",
       "  <tbody>\n",
       "    <tr>\n",
       "      <th>0</th>\n",
       "      <td>Priyang Bhatt</td>\n",
       "      <td>New York</td>\n",
       "      <td>NY</td>\n",
       "      <td>priyang bhatt</td>\n",
       "      <td>PRIYANG BHATT</td>\n",
       "      <td>13</td>\n",
       "      <td>New York</td>\n",
       "      <td>New York</td>\n",
       "      <td>New York</td>\n",
       "      <td>Priyang</td>\n",
       "      <td>Bhatt</td>\n",
       "      <td>New York</td>\n",
       "      <td>False</td>\n",
       "    </tr>\n",
       "    <tr>\n",
       "      <th>1</th>\n",
       "      <td>Rashmin Panchal</td>\n",
       "      <td>Los Angeles</td>\n",
       "      <td>CA</td>\n",
       "      <td>rashmin panchal</td>\n",
       "      <td>RASHMIN PANCHAL</td>\n",
       "      <td>15</td>\n",
       "      <td>Los Angeles</td>\n",
       "      <td>Los Angeles</td>\n",
       "      <td>Los Angeles</td>\n",
       "      <td>Rashmin</td>\n",
       "      <td>Panchal</td>\n",
       "      <td>California</td>\n",
       "      <td>True</td>\n",
       "    </tr>\n",
       "    <tr>\n",
       "      <th>2</th>\n",
       "      <td>Anil Rana</td>\n",
       "      <td>Chicago</td>\n",
       "      <td>IL</td>\n",
       "      <td>anil rana</td>\n",
       "      <td>ANIL RANA</td>\n",
       "      <td>9</td>\n",
       "      <td>Chicago</td>\n",
       "      <td>Chicago</td>\n",
       "      <td>Chicago</td>\n",
       "      <td>Anil</td>\n",
       "      <td>Rana</td>\n",
       "      <td>IL</td>\n",
       "      <td>False</td>\n",
       "    </tr>\n",
       "    <tr>\n",
       "      <th>3</th>\n",
       "      <td>Rahul Patel</td>\n",
       "      <td>Houston</td>\n",
       "      <td>TX</td>\n",
       "      <td>rahul patel</td>\n",
       "      <td>RAHUL PATEL</td>\n",
       "      <td>11</td>\n",
       "      <td>Houston</td>\n",
       "      <td>Houston</td>\n",
       "      <td>Houston</td>\n",
       "      <td>Rahul</td>\n",
       "      <td>Patel</td>\n",
       "      <td>TX</td>\n",
       "      <td>True</td>\n",
       "    </tr>\n",
       "  </tbody>\n",
       "</table>\n",
       "</div>"
      ],
      "text/plain": [
       "              Name           City State       name_lower       name_upper  \\\n",
       "0    Priyang Bhatt      New York     NY    priyang bhatt    PRIYANG BHATT   \n",
       "1  Rashmin Panchal   Los Angeles     CA  rashmin panchal  RASHMIN PANCHAL   \n",
       "2        Anil Rana        Chicago    IL        anil rana        ANIL RANA   \n",
       "3      Rahul Patel        Houston    TX      rahul patel      RAHUL PATEL   \n",
       "\n",
       "   Name_len   City_strip   city_lstrip   city_rstrip First_name Last_name  \\\n",
       "0        13     New York     New York       New York    Priyang     Bhatt   \n",
       "1        15  Los Angeles  Los Angeles    Los Angeles    Rashmin   Panchal   \n",
       "2         9      Chicago       Chicago       Chicago       Anil      Rana   \n",
       "3        11      Houston       Houston       Houston      Rahul     Patel   \n",
       "\n",
       "  State_replaced  ends_with_l  \n",
       "0       New York        False  \n",
       "1     California         True  \n",
       "2             IL        False  \n",
       "3             TX         True  "
      ]
     },
     "execution_count": 128,
     "metadata": {},
     "output_type": "execute_result"
    }
   ],
   "source": [
    "data"
   ]
  },
  {
   "cell_type": "code",
   "execution_count": 130,
   "id": "b1de2703-7ee0-49bb-a6eb-a3867991540e",
   "metadata": {},
   "outputs": [
    {
     "data": {
      "text/plain": [
       "0      Priyang Bhatt\n",
       "1    Rashmin Panchal\n",
       "2          Anil Rana\n",
       "3        Rahul Patel\n",
       "Name: First_name, dtype: object"
      ]
     },
     "execution_count": 130,
     "metadata": {},
     "output_type": "execute_result"
    }
   ],
   "source": [
    "data['First_name'].str.cat(data['Last_name'], sep=' ')"
   ]
  },
  {
   "cell_type": "code",
   "execution_count": 132,
   "id": "ea32fc12-b4ce-4d11-b012-ac8a50dea016",
   "metadata": {},
   "outputs": [],
   "source": [
    "data['Full_name']=data['First_name'].str.cat(data['Last_name'], sep=' ')"
   ]
  },
  {
   "cell_type": "code",
   "execution_count": 134,
   "id": "2f653d69-35f9-4757-b642-29e517474268",
   "metadata": {},
   "outputs": [
    {
     "data": {
      "text/html": [
       "<div>\n",
       "<style scoped>\n",
       "    .dataframe tbody tr th:only-of-type {\n",
       "        vertical-align: middle;\n",
       "    }\n",
       "\n",
       "    .dataframe tbody tr th {\n",
       "        vertical-align: top;\n",
       "    }\n",
       "\n",
       "    .dataframe thead th {\n",
       "        text-align: right;\n",
       "    }\n",
       "</style>\n",
       "<table border=\"1\" class=\"dataframe\">\n",
       "  <thead>\n",
       "    <tr style=\"text-align: right;\">\n",
       "      <th></th>\n",
       "      <th>Name</th>\n",
       "      <th>City</th>\n",
       "      <th>State</th>\n",
       "      <th>name_lower</th>\n",
       "      <th>name_upper</th>\n",
       "      <th>Name_len</th>\n",
       "      <th>City_strip</th>\n",
       "      <th>city_lstrip</th>\n",
       "      <th>city_rstrip</th>\n",
       "      <th>First_name</th>\n",
       "      <th>Last_name</th>\n",
       "      <th>State_replaced</th>\n",
       "      <th>ends_with_l</th>\n",
       "      <th>Full_name</th>\n",
       "    </tr>\n",
       "  </thead>\n",
       "  <tbody>\n",
       "    <tr>\n",
       "      <th>0</th>\n",
       "      <td>Priyang Bhatt</td>\n",
       "      <td>New York</td>\n",
       "      <td>NY</td>\n",
       "      <td>priyang bhatt</td>\n",
       "      <td>PRIYANG BHATT</td>\n",
       "      <td>13</td>\n",
       "      <td>New York</td>\n",
       "      <td>New York</td>\n",
       "      <td>New York</td>\n",
       "      <td>Priyang</td>\n",
       "      <td>Bhatt</td>\n",
       "      <td>New York</td>\n",
       "      <td>False</td>\n",
       "      <td>Priyang Bhatt</td>\n",
       "    </tr>\n",
       "    <tr>\n",
       "      <th>1</th>\n",
       "      <td>Rashmin Panchal</td>\n",
       "      <td>Los Angeles</td>\n",
       "      <td>CA</td>\n",
       "      <td>rashmin panchal</td>\n",
       "      <td>RASHMIN PANCHAL</td>\n",
       "      <td>15</td>\n",
       "      <td>Los Angeles</td>\n",
       "      <td>Los Angeles</td>\n",
       "      <td>Los Angeles</td>\n",
       "      <td>Rashmin</td>\n",
       "      <td>Panchal</td>\n",
       "      <td>California</td>\n",
       "      <td>True</td>\n",
       "      <td>Rashmin Panchal</td>\n",
       "    </tr>\n",
       "    <tr>\n",
       "      <th>2</th>\n",
       "      <td>Anil Rana</td>\n",
       "      <td>Chicago</td>\n",
       "      <td>IL</td>\n",
       "      <td>anil rana</td>\n",
       "      <td>ANIL RANA</td>\n",
       "      <td>9</td>\n",
       "      <td>Chicago</td>\n",
       "      <td>Chicago</td>\n",
       "      <td>Chicago</td>\n",
       "      <td>Anil</td>\n",
       "      <td>Rana</td>\n",
       "      <td>IL</td>\n",
       "      <td>False</td>\n",
       "      <td>Anil Rana</td>\n",
       "    </tr>\n",
       "    <tr>\n",
       "      <th>3</th>\n",
       "      <td>Rahul Patel</td>\n",
       "      <td>Houston</td>\n",
       "      <td>TX</td>\n",
       "      <td>rahul patel</td>\n",
       "      <td>RAHUL PATEL</td>\n",
       "      <td>11</td>\n",
       "      <td>Houston</td>\n",
       "      <td>Houston</td>\n",
       "      <td>Houston</td>\n",
       "      <td>Rahul</td>\n",
       "      <td>Patel</td>\n",
       "      <td>TX</td>\n",
       "      <td>True</td>\n",
       "      <td>Rahul Patel</td>\n",
       "    </tr>\n",
       "  </tbody>\n",
       "</table>\n",
       "</div>"
      ],
      "text/plain": [
       "              Name           City State       name_lower       name_upper  \\\n",
       "0    Priyang Bhatt      New York     NY    priyang bhatt    PRIYANG BHATT   \n",
       "1  Rashmin Panchal   Los Angeles     CA  rashmin panchal  RASHMIN PANCHAL   \n",
       "2        Anil Rana        Chicago    IL        anil rana        ANIL RANA   \n",
       "3      Rahul Patel        Houston    TX      rahul patel      RAHUL PATEL   \n",
       "\n",
       "   Name_len   City_strip   city_lstrip   city_rstrip First_name Last_name  \\\n",
       "0        13     New York     New York       New York    Priyang     Bhatt   \n",
       "1        15  Los Angeles  Los Angeles    Los Angeles    Rashmin   Panchal   \n",
       "2         9      Chicago       Chicago       Chicago       Anil      Rana   \n",
       "3        11      Houston       Houston       Houston      Rahul     Patel   \n",
       "\n",
       "  State_replaced  ends_with_l        Full_name  \n",
       "0       New York        False    Priyang Bhatt  \n",
       "1     California         True  Rashmin Panchal  \n",
       "2             IL        False        Anil Rana  \n",
       "3             TX         True      Rahul Patel  "
      ]
     },
     "execution_count": 134,
     "metadata": {},
     "output_type": "execute_result"
    }
   ],
   "source": [
    "data"
   ]
  },
  {
   "cell_type": "markdown",
   "id": "909dbe75-2dbb-47bb-a306-00c6323d6daa",
   "metadata": {},
   "source": [
    "## 9.str.get()"
   ]
  },
  {
   "cell_type": "code",
   "execution_count": 151,
   "id": "47bdadd9-445b-4f4e-bd89-7ce531dbd98f",
   "metadata": {},
   "outputs": [
    {
     "data": {
      "text/plain": [
       "0      Priyang Bhatt\n",
       "1    Rashmin Panchal\n",
       "2          Anil Rana\n",
       "3        Rahul Patel\n",
       "Name: Name, dtype: object"
      ]
     },
     "execution_count": 151,
     "metadata": {},
     "output_type": "execute_result"
    }
   ],
   "source": [
    "data['Name']"
   ]
  },
  {
   "cell_type": "code",
   "execution_count": 153,
   "id": "c3764ee7-62fb-4316-9b81-a49b293d5d84",
   "metadata": {},
   "outputs": [
    {
     "data": {
      "text/plain": [
       "0    P\n",
       "1    R\n",
       "2    A\n",
       "3    R\n",
       "Name: Name, dtype: object"
      ]
     },
     "execution_count": 153,
     "metadata": {},
     "output_type": "execute_result"
    }
   ],
   "source": [
    "data['Name'].str.get(0)"
   ]
  },
  {
   "cell_type": "code",
   "execution_count": 155,
   "id": "71b8a004-858c-4f47-a2e9-10d1596e1ba6",
   "metadata": {},
   "outputs": [
    {
     "data": {
      "text/plain": [
       "0    t\n",
       "1    l\n",
       "2    a\n",
       "3    l\n",
       "Name: Name, dtype: object"
      ]
     },
     "execution_count": 155,
     "metadata": {},
     "output_type": "execute_result"
    }
   ],
   "source": [
    "data['Name'].str.get(-1)"
   ]
  },
  {
   "cell_type": "code",
   "execution_count": 169,
   "id": "69daa58c-0735-4044-9934-803306d52eb9",
   "metadata": {},
   "outputs": [
    {
     "data": {
      "text/plain": [
       "0    Priyang\n",
       "1    Rashmin\n",
       "2       Anil\n",
       "3      Rahul\n",
       "Name: Name, dtype: object"
      ]
     },
     "execution_count": 169,
     "metadata": {},
     "output_type": "execute_result"
    }
   ],
   "source": [
    "data['Name'].str.split().str.get(0)"
   ]
  },
  {
   "cell_type": "markdown",
   "id": "a675a3e9-3dbb-4283-a51b-211976b6d4a0",
   "metadata": {},
   "source": [
    "## 10. str.slice()"
   ]
  },
  {
   "cell_type": "code",
   "execution_count": 172,
   "id": "2c6dae8a-cbb1-4ca0-9a6a-7eaf803b1018",
   "metadata": {},
   "outputs": [
    {
     "data": {
      "text/html": [
       "<div>\n",
       "<style scoped>\n",
       "    .dataframe tbody tr th:only-of-type {\n",
       "        vertical-align: middle;\n",
       "    }\n",
       "\n",
       "    .dataframe tbody tr th {\n",
       "        vertical-align: top;\n",
       "    }\n",
       "\n",
       "    .dataframe thead th {\n",
       "        text-align: right;\n",
       "    }\n",
       "</style>\n",
       "<table border=\"1\" class=\"dataframe\">\n",
       "  <thead>\n",
       "    <tr style=\"text-align: right;\">\n",
       "      <th></th>\n",
       "      <th>Name</th>\n",
       "      <th>City</th>\n",
       "      <th>State</th>\n",
       "      <th>name_lower</th>\n",
       "      <th>name_upper</th>\n",
       "      <th>Name_len</th>\n",
       "      <th>City_strip</th>\n",
       "      <th>city_lstrip</th>\n",
       "      <th>city_rstrip</th>\n",
       "      <th>First_name</th>\n",
       "      <th>Last_name</th>\n",
       "      <th>State_replaced</th>\n",
       "      <th>ends_with_l</th>\n",
       "      <th>Full_name</th>\n",
       "    </tr>\n",
       "  </thead>\n",
       "  <tbody>\n",
       "    <tr>\n",
       "      <th>0</th>\n",
       "      <td>Priyang Bhatt</td>\n",
       "      <td>New York</td>\n",
       "      <td>NY</td>\n",
       "      <td>priyang bhatt</td>\n",
       "      <td>PRIYANG BHATT</td>\n",
       "      <td>13</td>\n",
       "      <td>New York</td>\n",
       "      <td>New York</td>\n",
       "      <td>New York</td>\n",
       "      <td>Priyang</td>\n",
       "      <td>Bhatt</td>\n",
       "      <td>New York</td>\n",
       "      <td>False</td>\n",
       "      <td>Priyang Bhatt</td>\n",
       "    </tr>\n",
       "    <tr>\n",
       "      <th>1</th>\n",
       "      <td>Rashmin Panchal</td>\n",
       "      <td>Los Angeles</td>\n",
       "      <td>CA</td>\n",
       "      <td>rashmin panchal</td>\n",
       "      <td>RASHMIN PANCHAL</td>\n",
       "      <td>15</td>\n",
       "      <td>Los Angeles</td>\n",
       "      <td>Los Angeles</td>\n",
       "      <td>Los Angeles</td>\n",
       "      <td>Rashmin</td>\n",
       "      <td>Panchal</td>\n",
       "      <td>California</td>\n",
       "      <td>True</td>\n",
       "      <td>Rashmin Panchal</td>\n",
       "    </tr>\n",
       "    <tr>\n",
       "      <th>2</th>\n",
       "      <td>Anil Rana</td>\n",
       "      <td>Chicago</td>\n",
       "      <td>IL</td>\n",
       "      <td>anil rana</td>\n",
       "      <td>ANIL RANA</td>\n",
       "      <td>9</td>\n",
       "      <td>Chicago</td>\n",
       "      <td>Chicago</td>\n",
       "      <td>Chicago</td>\n",
       "      <td>Anil</td>\n",
       "      <td>Rana</td>\n",
       "      <td>IL</td>\n",
       "      <td>False</td>\n",
       "      <td>Anil Rana</td>\n",
       "    </tr>\n",
       "    <tr>\n",
       "      <th>3</th>\n",
       "      <td>Rahul Patel</td>\n",
       "      <td>Houston</td>\n",
       "      <td>TX</td>\n",
       "      <td>rahul patel</td>\n",
       "      <td>RAHUL PATEL</td>\n",
       "      <td>11</td>\n",
       "      <td>Houston</td>\n",
       "      <td>Houston</td>\n",
       "      <td>Houston</td>\n",
       "      <td>Rahul</td>\n",
       "      <td>Patel</td>\n",
       "      <td>TX</td>\n",
       "      <td>True</td>\n",
       "      <td>Rahul Patel</td>\n",
       "    </tr>\n",
       "  </tbody>\n",
       "</table>\n",
       "</div>"
      ],
      "text/plain": [
       "              Name           City State       name_lower       name_upper  \\\n",
       "0    Priyang Bhatt      New York     NY    priyang bhatt    PRIYANG BHATT   \n",
       "1  Rashmin Panchal   Los Angeles     CA  rashmin panchal  RASHMIN PANCHAL   \n",
       "2        Anil Rana        Chicago    IL        anil rana        ANIL RANA   \n",
       "3      Rahul Patel        Houston    TX      rahul patel      RAHUL PATEL   \n",
       "\n",
       "   Name_len   City_strip   city_lstrip   city_rstrip First_name Last_name  \\\n",
       "0        13     New York     New York       New York    Priyang     Bhatt   \n",
       "1        15  Los Angeles  Los Angeles    Los Angeles    Rashmin   Panchal   \n",
       "2         9      Chicago       Chicago       Chicago       Anil      Rana   \n",
       "3        11      Houston       Houston       Houston      Rahul     Patel   \n",
       "\n",
       "  State_replaced  ends_with_l        Full_name  \n",
       "0       New York        False    Priyang Bhatt  \n",
       "1     California         True  Rashmin Panchal  \n",
       "2             IL        False        Anil Rana  \n",
       "3             TX         True      Rahul Patel  "
      ]
     },
     "execution_count": 172,
     "metadata": {},
     "output_type": "execute_result"
    }
   ],
   "source": [
    "data"
   ]
  },
  {
   "cell_type": "code",
   "execution_count": 178,
   "id": "bbd521b7-ad3f-4140-81df-dac6b62acf85",
   "metadata": {},
   "outputs": [
    {
     "data": {
      "text/plain": [
       "0      Priyang Bhatt\n",
       "1    Rashmin Panchal\n",
       "2          Anil Rana\n",
       "3        Rahul Patel\n",
       "Name: Name, dtype: object"
      ]
     },
     "execution_count": 178,
     "metadata": {},
     "output_type": "execute_result"
    }
   ],
   "source": [
    "data['Name']"
   ]
  },
  {
   "cell_type": "code",
   "execution_count": 182,
   "id": "a3c4ab75-2c3f-4a34-a796-e0e6e882fc97",
   "metadata": {},
   "outputs": [
    {
     "data": {
      "text/plain": [
       "0    Pri\n",
       "1    Ras\n",
       "2    Ani\n",
       "3    Rah\n",
       "Name: Name, dtype: object"
      ]
     },
     "execution_count": 182,
     "metadata": {},
     "output_type": "execute_result"
    }
   ],
   "source": [
    "data['Name'].str.slice(0, 3)"
   ]
  },
  {
   "cell_type": "code",
   "execution_count": 184,
   "id": "f8d6dd51-e87b-4a8b-8df0-55939ca8226d",
   "metadata": {},
   "outputs": [
    {
     "data": {
      "text/plain": [
       "0    iya\n",
       "1    shm\n",
       "2    il \n",
       "3    hul\n",
       "Name: Name, dtype: object"
      ]
     },
     "execution_count": 184,
     "metadata": {},
     "output_type": "execute_result"
    }
   ],
   "source": [
    "data['Name'].str.slice(2, 5)"
   ]
  },
  {
   "cell_type": "code",
   "execution_count": 180,
   "id": "0f7d2d29-1fdf-4619-99f3-caab99868921",
   "metadata": {},
   "outputs": [
    {
     "data": {
      "text/plain": [
       "0    att\n",
       "1    hal\n",
       "2    ana\n",
       "3    tel\n",
       "Name: Name, dtype: object"
      ]
     },
     "execution_count": 180,
     "metadata": {},
     "output_type": "execute_result"
    }
   ],
   "source": [
    "data['Name'].str.slice(-3)"
   ]
  },
  {
   "cell_type": "code",
   "execution_count": 186,
   "id": "511a9c1c-e3e1-4e6d-a6e0-31a78b7b198b",
   "metadata": {},
   "outputs": [
    {
     "data": {
      "text/plain": [
       "0    Pri NY\n",
       "1    Ras CA\n",
       "2    Ani IL\n",
       "3    Rah TX\n",
       "dtype: object"
      ]
     },
     "execution_count": 186,
     "metadata": {},
     "output_type": "execute_result"
    }
   ],
   "source": [
    "data['Name'].str.slice(0, 3) +' '+data['State']"
   ]
  },
  {
   "cell_type": "code",
   "execution_count": 214,
   "id": "ebf91f6b-7fd9-4d04-ab2a-71a798bfdb25",
   "metadata": {},
   "outputs": [],
   "source": [
    "data['name_state'] = data['Name'].str.slice(0, 3) +' '+data['State']"
   ]
  },
  {
   "cell_type": "code",
   "execution_count": 216,
   "id": "37bed83e-5d73-4cc6-a604-be6a0b93d2d1",
   "metadata": {},
   "outputs": [
    {
     "data": {
      "text/html": [
       "<div>\n",
       "<style scoped>\n",
       "    .dataframe tbody tr th:only-of-type {\n",
       "        vertical-align: middle;\n",
       "    }\n",
       "\n",
       "    .dataframe tbody tr th {\n",
       "        vertical-align: top;\n",
       "    }\n",
       "\n",
       "    .dataframe thead th {\n",
       "        text-align: right;\n",
       "    }\n",
       "</style>\n",
       "<table border=\"1\" class=\"dataframe\">\n",
       "  <thead>\n",
       "    <tr style=\"text-align: right;\">\n",
       "      <th></th>\n",
       "      <th>Name</th>\n",
       "      <th>City</th>\n",
       "      <th>State</th>\n",
       "      <th>name_lower</th>\n",
       "      <th>name_upper</th>\n",
       "      <th>Name_len</th>\n",
       "      <th>City_strip</th>\n",
       "      <th>city_lstrip</th>\n",
       "      <th>city_rstrip</th>\n",
       "      <th>First_name</th>\n",
       "      <th>Last_name</th>\n",
       "      <th>State_replaced</th>\n",
       "      <th>ends_with_l</th>\n",
       "      <th>Full_name</th>\n",
       "      <th>name_state</th>\n",
       "    </tr>\n",
       "  </thead>\n",
       "  <tbody>\n",
       "    <tr>\n",
       "      <th>0</th>\n",
       "      <td>Priyang Bhatt</td>\n",
       "      <td>New York</td>\n",
       "      <td>NY</td>\n",
       "      <td>priyang bhatt</td>\n",
       "      <td>PRIYANG BHATT</td>\n",
       "      <td>13</td>\n",
       "      <td>New York</td>\n",
       "      <td>New York</td>\n",
       "      <td>New York</td>\n",
       "      <td>Priyang</td>\n",
       "      <td>Bhatt</td>\n",
       "      <td>New York</td>\n",
       "      <td>False</td>\n",
       "      <td>Priyang Bhatt</td>\n",
       "      <td>Pri NY</td>\n",
       "    </tr>\n",
       "    <tr>\n",
       "      <th>1</th>\n",
       "      <td>Rashmin Panchal</td>\n",
       "      <td>Los Angeles</td>\n",
       "      <td>CA</td>\n",
       "      <td>rashmin panchal</td>\n",
       "      <td>RASHMIN PANCHAL</td>\n",
       "      <td>15</td>\n",
       "      <td>Los Angeles</td>\n",
       "      <td>Los Angeles</td>\n",
       "      <td>Los Angeles</td>\n",
       "      <td>Rashmin</td>\n",
       "      <td>Panchal</td>\n",
       "      <td>California</td>\n",
       "      <td>True</td>\n",
       "      <td>Rashmin Panchal</td>\n",
       "      <td>Ras CA</td>\n",
       "    </tr>\n",
       "    <tr>\n",
       "      <th>2</th>\n",
       "      <td>Anil Rana</td>\n",
       "      <td>Chicago</td>\n",
       "      <td>IL</td>\n",
       "      <td>anil rana</td>\n",
       "      <td>ANIL RANA</td>\n",
       "      <td>9</td>\n",
       "      <td>Chicago</td>\n",
       "      <td>Chicago</td>\n",
       "      <td>Chicago</td>\n",
       "      <td>Anil</td>\n",
       "      <td>Rana</td>\n",
       "      <td>IL</td>\n",
       "      <td>False</td>\n",
       "      <td>Anil Rana</td>\n",
       "      <td>Ani IL</td>\n",
       "    </tr>\n",
       "    <tr>\n",
       "      <th>3</th>\n",
       "      <td>Rahul Patel</td>\n",
       "      <td>Houston</td>\n",
       "      <td>TX</td>\n",
       "      <td>rahul patel</td>\n",
       "      <td>RAHUL PATEL</td>\n",
       "      <td>11</td>\n",
       "      <td>Houston</td>\n",
       "      <td>Houston</td>\n",
       "      <td>Houston</td>\n",
       "      <td>Rahul</td>\n",
       "      <td>Patel</td>\n",
       "      <td>TX</td>\n",
       "      <td>True</td>\n",
       "      <td>Rahul Patel</td>\n",
       "      <td>Rah TX</td>\n",
       "    </tr>\n",
       "  </tbody>\n",
       "</table>\n",
       "</div>"
      ],
      "text/plain": [
       "              Name           City State       name_lower       name_upper  \\\n",
       "0    Priyang Bhatt      New York     NY    priyang bhatt    PRIYANG BHATT   \n",
       "1  Rashmin Panchal   Los Angeles     CA  rashmin panchal  RASHMIN PANCHAL   \n",
       "2        Anil Rana        Chicago    IL        anil rana        ANIL RANA   \n",
       "3      Rahul Patel        Houston    TX      rahul patel      RAHUL PATEL   \n",
       "\n",
       "   Name_len   City_strip   city_lstrip   city_rstrip First_name Last_name  \\\n",
       "0        13     New York     New York       New York    Priyang     Bhatt   \n",
       "1        15  Los Angeles  Los Angeles    Los Angeles    Rashmin   Panchal   \n",
       "2         9      Chicago       Chicago       Chicago       Anil      Rana   \n",
       "3        11      Houston       Houston       Houston      Rahul     Patel   \n",
       "\n",
       "  State_replaced  ends_with_l        Full_name name_state  \n",
       "0       New York        False    Priyang Bhatt     Pri NY  \n",
       "1     California         True  Rashmin Panchal     Ras CA  \n",
       "2             IL        False        Anil Rana     Ani IL  \n",
       "3             TX         True      Rahul Patel     Rah TX  "
      ]
     },
     "execution_count": 216,
     "metadata": {},
     "output_type": "execute_result"
    }
   ],
   "source": [
    "data"
   ]
  },
  {
   "cell_type": "markdown",
   "id": "28eb849e-4629-469e-97e0-fd5aad2b254d",
   "metadata": {},
   "source": [
    "## 11. str.find()"
   ]
  },
  {
   "cell_type": "code",
   "execution_count": 219,
   "id": "ed13272e-cda0-4380-b424-d36647a84e25",
   "metadata": {},
   "outputs": [
    {
     "data": {
      "text/html": [
       "<div>\n",
       "<style scoped>\n",
       "    .dataframe tbody tr th:only-of-type {\n",
       "        vertical-align: middle;\n",
       "    }\n",
       "\n",
       "    .dataframe tbody tr th {\n",
       "        vertical-align: top;\n",
       "    }\n",
       "\n",
       "    .dataframe thead th {\n",
       "        text-align: right;\n",
       "    }\n",
       "</style>\n",
       "<table border=\"1\" class=\"dataframe\">\n",
       "  <thead>\n",
       "    <tr style=\"text-align: right;\">\n",
       "      <th></th>\n",
       "      <th>Name</th>\n",
       "      <th>City</th>\n",
       "      <th>State</th>\n",
       "      <th>name_lower</th>\n",
       "      <th>name_upper</th>\n",
       "      <th>Name_len</th>\n",
       "      <th>City_strip</th>\n",
       "      <th>city_lstrip</th>\n",
       "      <th>city_rstrip</th>\n",
       "      <th>First_name</th>\n",
       "      <th>Last_name</th>\n",
       "      <th>State_replaced</th>\n",
       "      <th>ends_with_l</th>\n",
       "      <th>Full_name</th>\n",
       "      <th>name_state</th>\n",
       "    </tr>\n",
       "  </thead>\n",
       "  <tbody>\n",
       "    <tr>\n",
       "      <th>0</th>\n",
       "      <td>Priyang Bhatt</td>\n",
       "      <td>New York</td>\n",
       "      <td>NY</td>\n",
       "      <td>priyang bhatt</td>\n",
       "      <td>PRIYANG BHATT</td>\n",
       "      <td>13</td>\n",
       "      <td>New York</td>\n",
       "      <td>New York</td>\n",
       "      <td>New York</td>\n",
       "      <td>Priyang</td>\n",
       "      <td>Bhatt</td>\n",
       "      <td>New York</td>\n",
       "      <td>False</td>\n",
       "      <td>Priyang Bhatt</td>\n",
       "      <td>Pri NY</td>\n",
       "    </tr>\n",
       "    <tr>\n",
       "      <th>1</th>\n",
       "      <td>Rashmin Panchal</td>\n",
       "      <td>Los Angeles</td>\n",
       "      <td>CA</td>\n",
       "      <td>rashmin panchal</td>\n",
       "      <td>RASHMIN PANCHAL</td>\n",
       "      <td>15</td>\n",
       "      <td>Los Angeles</td>\n",
       "      <td>Los Angeles</td>\n",
       "      <td>Los Angeles</td>\n",
       "      <td>Rashmin</td>\n",
       "      <td>Panchal</td>\n",
       "      <td>California</td>\n",
       "      <td>True</td>\n",
       "      <td>Rashmin Panchal</td>\n",
       "      <td>Ras CA</td>\n",
       "    </tr>\n",
       "    <tr>\n",
       "      <th>2</th>\n",
       "      <td>Anil Rana</td>\n",
       "      <td>Chicago</td>\n",
       "      <td>IL</td>\n",
       "      <td>anil rana</td>\n",
       "      <td>ANIL RANA</td>\n",
       "      <td>9</td>\n",
       "      <td>Chicago</td>\n",
       "      <td>Chicago</td>\n",
       "      <td>Chicago</td>\n",
       "      <td>Anil</td>\n",
       "      <td>Rana</td>\n",
       "      <td>IL</td>\n",
       "      <td>False</td>\n",
       "      <td>Anil Rana</td>\n",
       "      <td>Ani IL</td>\n",
       "    </tr>\n",
       "    <tr>\n",
       "      <th>3</th>\n",
       "      <td>Rahul Patel</td>\n",
       "      <td>Houston</td>\n",
       "      <td>TX</td>\n",
       "      <td>rahul patel</td>\n",
       "      <td>RAHUL PATEL</td>\n",
       "      <td>11</td>\n",
       "      <td>Houston</td>\n",
       "      <td>Houston</td>\n",
       "      <td>Houston</td>\n",
       "      <td>Rahul</td>\n",
       "      <td>Patel</td>\n",
       "      <td>TX</td>\n",
       "      <td>True</td>\n",
       "      <td>Rahul Patel</td>\n",
       "      <td>Rah TX</td>\n",
       "    </tr>\n",
       "  </tbody>\n",
       "</table>\n",
       "</div>"
      ],
      "text/plain": [
       "              Name           City State       name_lower       name_upper  \\\n",
       "0    Priyang Bhatt      New York     NY    priyang bhatt    PRIYANG BHATT   \n",
       "1  Rashmin Panchal   Los Angeles     CA  rashmin panchal  RASHMIN PANCHAL   \n",
       "2        Anil Rana        Chicago    IL        anil rana        ANIL RANA   \n",
       "3      Rahul Patel        Houston    TX      rahul patel      RAHUL PATEL   \n",
       "\n",
       "   Name_len   City_strip   city_lstrip   city_rstrip First_name Last_name  \\\n",
       "0        13     New York     New York       New York    Priyang     Bhatt   \n",
       "1        15  Los Angeles  Los Angeles    Los Angeles    Rashmin   Panchal   \n",
       "2         9      Chicago       Chicago       Chicago       Anil      Rana   \n",
       "3        11      Houston       Houston       Houston      Rahul     Patel   \n",
       "\n",
       "  State_replaced  ends_with_l        Full_name name_state  \n",
       "0       New York        False    Priyang Bhatt     Pri NY  \n",
       "1     California         True  Rashmin Panchal     Ras CA  \n",
       "2             IL        False        Anil Rana     Ani IL  \n",
       "3             TX         True      Rahul Patel     Rah TX  "
      ]
     },
     "execution_count": 219,
     "metadata": {},
     "output_type": "execute_result"
    }
   ],
   "source": [
    "data"
   ]
  },
  {
   "cell_type": "code",
   "execution_count": 225,
   "id": "50495bf7-c6ed-4ba5-b321-aa1b90624eab",
   "metadata": {},
   "outputs": [
    {
     "data": {
      "text/plain": [
       "0      Priyang Bhatt\n",
       "1    Rashmin Panchal\n",
       "2          Anil Rana\n",
       "3        Rahul Patel\n",
       "Name: Name, dtype: object"
      ]
     },
     "execution_count": 225,
     "metadata": {},
     "output_type": "execute_result"
    }
   ],
   "source": [
    "data['Name']"
   ]
  },
  {
   "cell_type": "code",
   "execution_count": 227,
   "id": "aea2c6eb-c7dc-4c54-9d68-003e94cabbe5",
   "metadata": {},
   "outputs": [
    {
     "data": {
      "text/plain": [
       "0    2\n",
       "1    5\n",
       "2    2\n",
       "3   -1\n",
       "Name: Name, dtype: int64"
      ]
     },
     "execution_count": 227,
     "metadata": {},
     "output_type": "execute_result"
    }
   ],
   "source": [
    "data['Name'].str.find('i')"
   ]
  },
  {
   "cell_type": "code",
   "execution_count": 229,
   "id": "2fc55d7c-56d6-42bb-baaf-04bb4fbb6444",
   "metadata": {},
   "outputs": [],
   "source": [
    "data['Index_of_i']= data['Name'].str.find('i')"
   ]
  },
  {
   "cell_type": "code",
   "execution_count": 235,
   "id": "6f28d36b-5d84-4c79-83f1-9e22a9c7ec29",
   "metadata": {},
   "outputs": [
    {
     "data": {
      "text/html": [
       "<div>\n",
       "<style scoped>\n",
       "    .dataframe tbody tr th:only-of-type {\n",
       "        vertical-align: middle;\n",
       "    }\n",
       "\n",
       "    .dataframe tbody tr th {\n",
       "        vertical-align: top;\n",
       "    }\n",
       "\n",
       "    .dataframe thead th {\n",
       "        text-align: right;\n",
       "    }\n",
       "</style>\n",
       "<table border=\"1\" class=\"dataframe\">\n",
       "  <thead>\n",
       "    <tr style=\"text-align: right;\">\n",
       "      <th></th>\n",
       "      <th>Index_of_i</th>\n",
       "    </tr>\n",
       "  </thead>\n",
       "  <tbody>\n",
       "    <tr>\n",
       "      <th>0</th>\n",
       "      <td>2</td>\n",
       "    </tr>\n",
       "    <tr>\n",
       "      <th>1</th>\n",
       "      <td>5</td>\n",
       "    </tr>\n",
       "    <tr>\n",
       "      <th>2</th>\n",
       "      <td>2</td>\n",
       "    </tr>\n",
       "    <tr>\n",
       "      <th>3</th>\n",
       "      <td>-1</td>\n",
       "    </tr>\n",
       "  </tbody>\n",
       "</table>\n",
       "</div>"
      ],
      "text/plain": [
       "   Index_of_i\n",
       "0           2\n",
       "1           5\n",
       "2           2\n",
       "3          -1"
      ]
     },
     "execution_count": 235,
     "metadata": {},
     "output_type": "execute_result"
    }
   ],
   "source": [
    "data[['Index_of_i']]"
   ]
  },
  {
   "cell_type": "code",
   "execution_count": 237,
   "id": "e9c1345e-356a-4ae7-b36b-9e74a73d4723",
   "metadata": {},
   "outputs": [
    {
     "data": {
      "text/plain": [
       "0    10\n",
       "1    13\n",
       "2     8\n",
       "3     7\n",
       "Name: Name, dtype: int64"
      ]
     },
     "execution_count": 237,
     "metadata": {},
     "output_type": "execute_result"
    }
   ],
   "source": [
    "data['Name'].str.rfind('a')"
   ]
  },
  {
   "cell_type": "code",
   "execution_count": null,
   "id": "4e8b98a6-131b-477d-9e0b-15b12ae6d490",
   "metadata": {},
   "outputs": [],
   "source": []
  }
 ],
 "metadata": {
  "kernelspec": {
   "display_name": "Anaconda",
   "language": "python",
   "name": "base"
  },
  "language_info": {
   "codemirror_mode": {
    "name": "ipython",
    "version": 3
   },
   "file_extension": ".py",
   "mimetype": "text/x-python",
   "name": "python",
   "nbconvert_exporter": "python",
   "pygments_lexer": "ipython3",
   "version": "3.11.7"
  }
 },
 "nbformat": 4,
 "nbformat_minor": 5
}
