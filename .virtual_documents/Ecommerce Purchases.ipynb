import pandas as pd


data = pd.read_csv('Ecommerce Purchases')
data






